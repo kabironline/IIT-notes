{
 "cells": [
  {
   "attachments": {},
   "cell_type": "markdown",
   "metadata": {},
   "source": [
    "## Importing Package"
   ]
  },
  {
   "cell_type": "code",
   "execution_count": 1,
   "metadata": {},
   "outputs": [],
   "source": [
    "import numpy as np"
   ]
  },
  {
   "attachments": {},
   "cell_type": "markdown",
   "metadata": {},
   "source": [
    "Creating a function that creates an array of random variables\n",
    "\n",
    "$a$ : Min Range of the outcomes\n",
    "\n",
    "$b$ : Max Range of the outcomes\n",
    "\n",
    "$size$: Total number of random variables"
   ]
  },
  {
   "cell_type": "code",
   "execution_count": 10,
   "metadata": {},
   "outputs": [],
   "source": [
    "def uniform(a, b, size):\n",
    "    return np.random.randint(a, b+1, size)"
   ]
  },
  {
   "attachments": {},
   "cell_type": "markdown",
   "metadata": {},
   "source": [
    "## Testing Uniform Function\n",
    "- Testing the function with a toss of a coin, where the outcomes are $0 \\text{ and } 1$ with equal probability (0 = Head, 1 = Tail)\n",
    "- Testing the function with a roll of a dice, where the outcomes are $\\lbrace 1, 2, 3, 4, 5, 6\\rbrace$ with equal probability\n",
    "- Testing the function with a pack of cards ($52$ cards), where the outcomes are $\\lbrace \\text{Ace } (1), 2, 3, 4, 5, 6, 7, 8, 9, 10, \\text{ Jack } (11), \\text{ Queen } (12), \\text{ King } (13) \\rbrace$ with equal probability\n",
    "  -  The range of the outcomes will be from 1 to 52 and the outcome will be moduled by 13 to get the card."
   ]
  },
  {
   "attachments": {},
   "cell_type": "markdown",
   "metadata": {},
   "source": [
    "# Toss of a coin\n",
    "- Tossing $n$ times\n",
    "  - Once\n",
    "  - 10 times\n",
    "  - 100 times"
   ]
  },
  {
   "cell_type": "code",
   "execution_count": 14,
   "metadata": {},
   "outputs": [
    {
     "name": "stdout",
     "output_type": "stream",
     "text": [
      "[0]\n",
      "[0 1 0 1 0 1 1 0 1 0]\n",
      "[1 0 0 1 1 1 1 0 1 0 1 1 0 1 0 1 1 1 0 0 1 1 0 1 1 0 0 1 1 1 0 0 1 1 1 0 0\n",
      " 1 0 0 1 0 0 1 1 0 1 1 0 0 1 0 0 0 1 1 1 1 1 1 1 1 0 1 1 1 1 0 1 0 1 0 0 0\n",
      " 0 0 0 1 1 0 0 0 0 1 0 1 0 1 0 1 0 0 0 1 0 1 0 0 0 0]\n"
     ]
    }
   ],
   "source": [
    "print(uniform(0, 1, 1))\n",
    "print(uniform(0, 1, 10))\n",
    "print(uniform(0, 1, 100))"
   ]
  },
  {
   "attachments": {},
   "cell_type": "markdown",
   "metadata": {},
   "source": [
    "# Throwing a dice\n",
    "- Throwing $n$ times\n",
    "  - Once\n",
    "  - 10 times\n",
    "  - 100 times"
   ]
  },
  {
   "cell_type": "code",
   "execution_count": 17,
   "metadata": {},
   "outputs": [
    {
     "name": "stdout",
     "output_type": "stream",
     "text": [
      "[6]\n",
      "[1 2 0 4 6 0 4 5 3 1]\n",
      "[6 2 2 2 3 5 5 4 2 5 6 3 5 0 4 5 3 6 3 0 1 4 2 6 5 4 1 2 5 3 2 1 3 3 3 6 4\n",
      " 4 5 0 5 2 3 6 2 4 5 3 4 3 3 5 1 2 1 1 3 1 4 1 5 0 6 2 2 3 4 2 5 4 4 3 1 3\n",
      " 1 4 0 6 0 5 5 6 1 5 0 1 3 3 0 1 0 3 1 1 5 0 4 2 0 1]\n"
     ]
    }
   ],
   "source": [
    "print(uniform(0, 6, 1))\n",
    "print(uniform(0, 6, 10))\n",
    "print(uniform(0, 6, 100))"
   ]
  },
  {
   "attachments": {},
   "cell_type": "markdown",
   "metadata": {},
   "source": [
    "# Picking a card from a deck of cards\n",
    "- Picking $n$ times\n",
    "  - Once\n",
    "  - 10 times\n",
    "  - 100 times"
   ]
  },
  {
   "cell_type": "code",
   "execution_count": 18,
   "metadata": {},
   "outputs": [
    {
     "name": "stdout",
     "output_type": "stream",
     "text": [
      "[48]\n",
      "[47 18 39 22  7 31 22  7 51 47]\n",
      "[12  6 40 10  6 43 39 12 33 16  2 13 45 28 29 19 16 51  0 21 20 52 22 10\n",
      " 12  9 42 44 39  3 14 31  9 44 51 29  8 47 37 35 50 32 38 44 23 47 26 34\n",
      " 48 21 25  0 34 23  6 40 28 22  8 52  8 39  7  7  8 27 33 12 34  2  2 44\n",
      " 44  8 38 38 15 41 49 27 50 37  5 43 10 42  6 52 31 43 36 43 13 35 46 43\n",
      " 33 52  6 45]\n"
     ]
    }
   ],
   "source": [
    "print(uniform(0, 52, 1))\n",
    "print(uniform(0, 52, 10))\n",
    "print(uniform(0, 52, 100))"
   ]
  },
  {
   "attachments": {},
   "cell_type": "markdown",
   "metadata": {},
   "source": [
    "# Monte Carlo Simulation - Estimating the probability by simulation\n",
    "Monte Carlo simulation is a computational technique that uses random sampling to estimate the probability of different outcomes. It is often used in situations where it is difficult or impossible to calculate the probability analytically. The technique involves generating a large number of random samples and using these samples to estimate the probability of different outcomes. Monte Carlo simulation is widely used in finance, engineering, physics, and other fields to model complex systems and estimate the likelihood of different outcomes.\n",
    "\n",
    "Higher the number of samples, more accurate the probability estimate will be. However, the computational cost of the simulation increases with the number of samples. Therefore, it is important to find a balance between accuracy and computational cost.\n",
    "\n",
    "### Formula \n",
    "$$ \\text{Probability} = \\frac{\\text{Number of times the event occured}}{\\text{Total number of trials}}$$\n",
    "\n",
    "### Monte Carlo Simulation for getting a prime number in a dice\n",
    "\n",
    "- There are $3$ prime numbers between $1 \\text{ and } 6 (2,3,5)$ the probability of getting a prime number is $3/6 = 0.5$"
   ]
  },
  {
   "cell_type": "code",
   "execution_count": 29,
   "metadata": {},
   "outputs": [
    {
     "name": "stdout",
     "output_type": "stream",
     "text": [
      "0.499375\n"
     ]
    }
   ],
   "source": [
    "prime_count = 0\n",
    "n = 1000000\n",
    "for i in range(n):\n",
    "    output = uniform(1, 6, 1)[0]\n",
    "    if output == 2 or output == 3 or output == 5:\n",
    "        prime_count += 1\n",
    "print(prime_count/n)"
   ]
  },
  {
   "attachments": {},
   "cell_type": "markdown",
   "metadata": {},
   "source": [
    "# Probability of getting a king in a deck of cards\n",
    "- There are $4$ kings in a deck of cards, the probability of getting a king is $4/52 = 0.0769230769$"
   ]
  },
  {
   "cell_type": "code",
   "execution_count": 32,
   "metadata": {},
   "outputs": [
    {
     "name": "stdout",
     "output_type": "stream",
     "text": [
      "0.077077\n"
     ]
    }
   ],
   "source": [
    "king_count = 0\n",
    "n = 1000000\n",
    "for i in range(n):\n",
    "    output = uniform(1, 52, 1)[0]\n",
    "    if output % 13 == 0:\n",
    "        king_count += 1\n",
    "print(king_count/n)"
   ]
  }
 ],
 "metadata": {
  "kernelspec": {
   "display_name": "Python 3",
   "language": "python",
   "name": "python3"
  },
  "language_info": {
   "codemirror_mode": {
    "name": "ipython",
    "version": 3
   },
   "file_extension": ".py",
   "mimetype": "text/x-python",
   "name": "python",
   "nbconvert_exporter": "python",
   "pygments_lexer": "ipython3",
   "version": "3.11.3"
  },
  "orig_nbformat": 4
 },
 "nbformat": 4,
 "nbformat_minor": 2
}
