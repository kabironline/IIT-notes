{
 "cells": [
  {
   "cell_type": "code",
   "execution_count": 29,
   "metadata": {},
   "outputs": [],
   "source": [
    "# %pip install numpy"
   ]
  },
  {
   "cell_type": "code",
   "execution_count": 30,
   "metadata": {},
   "outputs": [],
   "source": [
    "import numpy as np"
   ]
  },
  {
   "cell_type": "code",
   "execution_count": 31,
   "metadata": {},
   "outputs": [
    {
     "data": {
      "text/plain": [
       "array([[1, 0, 0],\n",
       "       [1, 1, 1]])"
      ]
     },
     "execution_count": 31,
     "metadata": {},
     "output_type": "execute_result"
    }
   ],
   "source": [
    "# import the parameters from the \"parameters.npz\" file\n",
    "# parameters = np.load(\"./parameters.npz\")\n",
    "parameters = {}\n",
    "parameters[\"W1\"] = np.array([[1, 0, 0], [1, 1, 1]])\n",
    "parameters[\"b1\"] = np.array([[0], [0]])\n",
    "parameters[\"W2\"] = np.array([[1, 0], [1, 1]])\n",
    "parameters[\"b2\"] = np.array([[0], [0]])\n",
    "parameters[\"W3\"] = np.array([[1, 0], [1, 0], [1, 1]])\n",
    "parameters[\"b3\"] = np.array([[0], [0], [0]])\n",
    "\n",
    "parameters.get(\"W1\")"
   ]
  },
  {
   "cell_type": "code",
   "execution_count": 32,
   "metadata": {},
   "outputs": [],
   "source": [
    "X = np.array([[1], [0], [1]])\n",
    "y = np.array([[0], [0], [1]])"
   ]
  },
  {
   "cell_type": "code",
   "execution_count": 33,
   "metadata": {},
   "outputs": [
    {
     "name": "stdout",
     "output_type": "stream",
     "text": [
      "a: [[1]\n",
      " [2]] 3\n",
      "h1: [[0.73105858]\n",
      " [0.88079708]] 1.6118556566078872\n",
      "------------------------------------------\n",
      "a: [[0.73105858]\n",
      " [1.61185566]] 2.342914235237892\n",
      "h2: [[0.67503753]\n",
      " [0.83366886]]\n",
      "------------------------------------------\n",
      "a: [[0.67503753]\n",
      " [0.67503753]\n",
      " [1.50870639]] 2.858781442695939\n",
      "------------------------------------------\n",
      "[[0.23246364]\n",
      " [0.23246364]\n",
      " [0.53507273]]\n",
      "Loss: 0.625352605222406\n"
     ]
    }
   ],
   "source": [
    "def sigmoid(Z):\n",
    "    return 1/(1+np.exp(-Z))\n",
    "\n",
    "def calculate_next_layer(A_prev, W, b, last_layer=False):\n",
    "    Z = np.dot(W, A_prev) + b\n",
    "    print(\"a:\", Z, Z.sum())\n",
    "    # Activation function\n",
    "    A = sigmoid(Z) if not last_layer else Z\n",
    "    return A\n",
    "\n",
    "def softmax(Z):\n",
    "    e_Z = np.exp(Z - np.max(Z))\n",
    "    A = e_Z / e_Z.sum(axis=0)\n",
    "    return A\n",
    "\n",
    "# loss function cross entropy\n",
    "def compute_loss(Y, Y_hat):\n",
    "    L_sum = np.sum(np.multiply(Y, np.log(Y_hat)))\n",
    "    return -L_sum        \n",
    "\n",
    "\n",
    "W1 = parameters.get(\"W1\")\n",
    "b1 = parameters.get(\"b1\")\n",
    "W2 = parameters.get(\"W2\")\n",
    "b2 = parameters.get(\"b2\")\n",
    "W3 = parameters.get(\"W3\")\n",
    "b3 = parameters.get(\"b3\")\n",
    "\n",
    "A0 = X\n",
    "h1 = calculate_next_layer(A0, W1, b1)\n",
    "print(\"h1:\", h1, h1.sum())\n",
    "print(\"------------------------------------------\")\n",
    "h2 = calculate_next_layer(h1, W2, b2)\n",
    "print(\"h2:\", h2)\n",
    "print(\"------------------------------------------\")\n",
    "h3 = calculate_next_layer(h2, W3, b3, last_layer=True)\n",
    "print(\"------------------------------------------\")\n",
    "\n",
    "Y = softmax(h3)\n",
    "\n",
    "\n",
    "# caluclating the loss\n",
    "loss = compute_loss(y, Y)\n",
    "\n",
    "print(Y)\n",
    "print(\"Loss:\", loss)"
   ]
  },
  {
   "cell_type": "code",
   "execution_count": 34,
   "metadata": {},
   "outputs": [],
   "source": [
    "# function that differenciate the loss function with an pre-activation value\n",
    "def dL_dZ(Y, Y_hat):\n",
    "    return Y_hat - Y"
   ]
  },
  {
   "cell_type": "code",
   "execution_count": 35,
   "metadata": {},
   "outputs": [],
   "source": [
    "# (1/(1+exp(-x)))\n",
    "# exp(x)/(exp(x)+exp(y)+exp(z))"
   ]
  }
 ],
 "metadata": {
  "kernelspec": {
   "display_name": "iitm",
   "language": "python",
   "name": "python3"
  },
  "language_info": {
   "codemirror_mode": {
    "name": "ipython",
    "version": 3
   },
   "file_extension": ".py",
   "mimetype": "text/x-python",
   "name": "python",
   "nbconvert_exporter": "python",
   "pygments_lexer": "ipython3",
   "version": "3.11.11"
  }
 },
 "nbformat": 4,
 "nbformat_minor": 2
}
