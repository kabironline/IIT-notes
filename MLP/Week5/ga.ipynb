{
 "cells": [
  {
   "cell_type": "code",
   "execution_count": 28,
   "metadata": {},
   "outputs": [],
   "source": [
    "from sklearn.datasets import fetch_california_housing\n",
    "from sklearn.model_selection import GridSearchCV\n",
    "from sklearn.linear_model import SGDRegressor, Ridge, Lasso\n",
    "from sklearn.preprocessing import StandardScaler\n",
    "from sklearn.model_selection import train_test_split\n",
    "from sklearn.pipeline import Pipeline"
   ]
  },
  {
   "cell_type": "code",
   "execution_count": 20,
   "metadata": {},
   "outputs": [
    {
     "name": "stdout",
     "output_type": "stream",
     "text": [
      "Test set score: 0.5894461909174828\n",
      "Best Alpha: 0.01\n",
      "Best maximum iterations: 2000\n"
     ]
    }
   ],
   "source": [
    "# Fetch the California housing dataset\n",
    "dataset = fetch_california_housing()\n",
    "\n",
    "# Split the dataset into training and testing sets\n",
    "train, test, target_train, target_test = train_test_split(dataset.data, dataset.target, test_size=0.3, random_state=1)\n",
    "\n",
    "# Define the pipeline\n",
    "pipeline = Pipeline([\n",
    "    ('scaler', StandardScaler(with_mean=True, with_std=True)),\n",
    "    ('regressor', SGDRegressor())\n",
    "])\n",
    "\n",
    "# Define the parameter grid\n",
    "param_grid = {\n",
    "    'regressor__alpha': [0.1, 0.01, 0.001],\n",
    "    'regressor__loss': ['squared_error', 'huber'],\n",
    "    'regressor__penalty': ['l1', 'l2'],\n",
    "    'regressor__max_iter': [1000, 2000, 5000]\n",
    "}\n",
    "\n",
    "# Create the GridSearchCV object\n",
    "grid_search = GridSearchCV(pipeline, param_grid, cv=4)\n",
    "\n",
    "# Fit the GridSearchCV object\n",
    "grid_search.fit(train, target_train)\n",
    "\n",
    "# Print the best parameters and the score on the test set\n",
    "# print(\"Best parameters:\", grid_search.best_params_)\n",
    "print(\"Test set score:\", grid_search.score(test, target_test))\n",
    "print(\"Best Alpha:\", grid_search.best_params_['regressor__alpha'])\n",
    "print(\"Best maximum iterations:\", grid_search.best_params_['regressor__max_iter'])"
   ]
  },
  {
   "cell_type": "code",
   "execution_count": 26,
   "metadata": {},
   "outputs": [
    {
     "name": "stdout",
     "output_type": "stream",
     "text": [
      "Test set score: 0.597145061224877\n",
      "Best Alpha: 0.5\n"
     ]
    }
   ],
   "source": [
    "# Fetch the California housing dataset\n",
    "dataset = fetch_california_housing()\n",
    "\n",
    "# Split the dataset into training and testing sets\n",
    "train, test, target_train, target_test = train_test_split(dataset.data, dataset.target, test_size=0.3, random_state=1)\n",
    "\n",
    "# Define the pipeline\n",
    "pipeline = Pipeline([\n",
    "    ('scaler', StandardScaler(with_mean=True, with_std=True)),\n",
    "    ('regressor', Ridge())\n",
    "])\n",
    "\n",
    "# Define the parameter grid\n",
    "param_grid = {\n",
    "    'regressor__alpha': [0.5, 0.1, 0.01, 0.005, 0.001],\n",
    "    'regressor__fit_intercept': [True, False],  # Note: Ridge uses 'fit_intercept'\n",
    "}\n",
    "\n",
    "# Create the GridSearchCV object\n",
    "grid_search = GridSearchCV(pipeline, param_grid, cv=4, scoring='r2')\n",
    "\n",
    "# Fit the GridSearchCV object\n",
    "grid_search.fit(train, target_train)\n",
    "\n",
    "# Print the test set score and best parameters\n",
    "print(\"Test set score:\", grid_search.score(test, target_test))\n",
    "print(\"Best Alpha:\", grid_search.best_params_['regressor__alpha'])\n"
   ]
  },
  {
   "cell_type": "code",
   "execution_count": 29,
   "metadata": {},
   "outputs": [
    {
     "name": "stdout",
     "output_type": "stream",
     "text": [
      "Test set score: 0.5971275080716549\n",
      "Best Alpha: 0.001\n"
     ]
    }
   ],
   "source": [
    "# Fetch the California housing dataset\n",
    "dataset = fetch_california_housing()\n",
    "\n",
    "# Split the dataset into training and testing sets\n",
    "train, test, target_train, target_test = train_test_split(dataset.data, dataset.target, test_size=0.3, random_state=1)\n",
    "\n",
    "# Define the pipeline\n",
    "pipeline = Pipeline([\n",
    "    ('scaler', StandardScaler(with_mean=True, with_std=True)),\n",
    "    ('regressor', Lasso())\n",
    "])\n",
    "\n",
    "# Define the parameter grid\n",
    "param_grid = {\n",
    "    'regressor__alpha': [0.5, 0.1, 0.01, 0.005, 0.001],\n",
    "    'regressor__fit_intercept': [True, False],\n",
    "}\n",
    "\n",
    "# Create the GridSearchCV object\n",
    "grid_search = GridSearchCV(pipeline, param_grid, cv=6, scoring='r2')\n",
    "\n",
    "# Fit the GridSearchCV object\n",
    "grid_search.fit(train, target_train)\n",
    "\n",
    "# Print the test set score and best parameters\n",
    "print(\"Test set score:\", grid_search.score(test, target_test))\n",
    "print(\"Best Alpha:\", grid_search.best_params_['regressor__alpha'])"
   ]
  }
 ],
 "metadata": {
  "kernelspec": {
   "display_name": "iitm-mlp",
   "language": "python",
   "name": "python3"
  },
  "language_info": {
   "codemirror_mode": {
    "name": "ipython",
    "version": 3
   },
   "file_extension": ".py",
   "mimetype": "text/x-python",
   "name": "python",
   "nbconvert_exporter": "python",
   "pygments_lexer": "ipython3",
   "version": "3.12.3"
  }
 },
 "nbformat": 4,
 "nbformat_minor": 2
}
