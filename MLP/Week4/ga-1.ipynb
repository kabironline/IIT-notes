{
 "cells": [
  {
   "cell_type": "code",
   "execution_count": 19,
   "metadata": {},
   "outputs": [],
   "source": [
    "import sklearn as sk\n",
    "import sklearn.datasets as skds\n",
    "from sklearn.model_selection import train_test_split\n",
    "from sklearn.preprocessing import StandardScaler\n",
    "from sklearn.linear_model import LinearRegression, SGDRegressor\n",
    "# import pipeline\n",
    "from sklearn.pipeline import Pipeline\n",
    "# import RMSE\n",
    "from sklearn.metrics import mean_squared_error\n",
    "# import variance, max error, mean squared error\n",
    "from sklearn.metrics import explained_variance_score, max_error, mean_squared_error, mean_absolute_error"
   ]
  },
  {
   "cell_type": "code",
   "execution_count": 20,
   "metadata": {},
   "outputs": [
    {
     "name": "stdout",
     "output_type": "stream",
     "text": [
      "0.6605140591532082\n"
     ]
    }
   ],
   "source": [
    "# load the california housing dataset\n",
    "dataset = skds.fetch_california_housing()\n",
    "training, testing = train_test_split(dataset.data, test_size=0.2, shuffle=False, random_state=0)\n",
    "\n",
    "model = LinearRegression()\n",
    "model.fit(training, dataset.target[:len(training)])\n",
    "print(model.score(testing, dataset.target[len(training):]))"
   ]
  },
  {
   "cell_type": "code",
   "execution_count": 21,
   "metadata": {},
   "outputs": [
    {
     "name": "stdout",
     "output_type": "stream",
     "text": [
      "0.7033383507521878\n"
     ]
    }
   ],
   "source": [
    "# If we use StandardScaler for preprocessing and LinearRegression for fitting the model, what is the root mean squared error value for predictions obtained using test set features?\n",
    "pipeline = Pipeline([\n",
    "    ('scaler', StandardScaler()),\n",
    "    ('model', LinearRegression())\n",
    "])\n",
    "pipeline.fit(training, dataset.target[:len(training)])\n",
    "rmse = mean_squared_error(dataset.target[len(training):], pipeline.predict(testing), squared=False)\n",
    "print(rmse)"
   ]
  },
  {
   "cell_type": "code",
   "execution_count": 22,
   "metadata": {},
   "outputs": [
    {
     "name": "stdout",
     "output_type": "stream",
     "text": [
      "0.6605500501742704 7.260453292958351 0.5168526993787043 0.49468483563880744\n"
     ]
    }
   ],
   "source": [
    "# calculate variance, max error, mean squared error\n",
    "variance = explained_variance_score(dataset.target[len(training):], pipeline.predict(testing))\n",
    "max_error = max_error(dataset.target[len(training):], pipeline.predict(testing))\n",
    "mse = mean_squared_error(dataset.target[len(training):], pipeline.predict(testing))\n",
    "mabse = mean_absolute_error(dataset.target[len(training):], pipeline.predict(testing))\n",
    "print(variance, max_error, mabse,mse)"
   ]
  },
  {
   "cell_type": "code",
   "execution_count": 24,
   "metadata": {},
   "outputs": [
    {
     "name": "stdout",
     "output_type": "stream",
     "text": [
      "2.0112392087532647\n"
     ]
    }
   ],
   "source": [
    "pipeline = Pipeline([\n",
    "    ('scaler', StandardScaler()),\n",
    "    ('model', SGDRegressor(random_state=0))\n",
    "])\n",
    "# calculate bias\n",
    "pipeline.fit(training, dataset.target[:len(training)])\n",
    "bias = pipeline['model'].intercept_[0]\n",
    "print(bias)"
   ]
  },
  {
   "cell_type": "code",
   "execution_count": 25,
   "metadata": {},
   "outputs": [
    {
     "name": "stdout",
     "output_type": "stream",
     "text": [
      "[ 0.84046697  0.112331   -0.41213039  0.21595971 -0.01781887 -0.01480892\n",
      " -0.87394103 -0.83913104]\n"
     ]
    }
   ],
   "source": [
    "# What are the coefficients in predicted model?\n",
    "coefficients = pipeline['model'].coef_\n",
    "print(coefficients)"
   ]
  }
 ],
 "metadata": {
  "kernelspec": {
   "display_name": "iitm-mlp",
   "language": "python",
   "name": "python3"
  },
  "language_info": {
   "codemirror_mode": {
    "name": "ipython",
    "version": 3
   },
   "file_extension": ".py",
   "mimetype": "text/x-python",
   "name": "python",
   "nbconvert_exporter": "python",
   "pygments_lexer": "ipython3",
   "version": "3.12.3"
  }
 },
 "nbformat": 4,
 "nbformat_minor": 2
}
