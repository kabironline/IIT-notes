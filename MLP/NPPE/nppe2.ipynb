{
 "cells": [
  {
   "cell_type": "code",
   "execution_count": 28,
   "metadata": {},
   "outputs": [],
   "source": [
    "import pandas as pd\n",
    "# Import test_train_split ridge regression grid search SGDRegressor Lasso LinearRegression\n",
    "from sklearn.model_selection import train_test_split\n",
    "from sklearn.linear_model import Ridge, Lasso, LinearRegression, SGDRegressor\n",
    "from sklearn.model_selection import GridSearchCV\n",
    "from sklearn.metrics import mean_squared_error, r2_score, mean_absolute_error\n",
    "from sklearn.preprocessing import StandardScaler"
   ]
  },
  {
   "cell_type": "code",
   "execution_count": 29,
   "metadata": {},
   "outputs": [],
   "source": [
    "dataset = pd.read_csv('NPPE1_ModelBuilding3.csv')\n",
    "X = dataset.drop(columns=['PRICE'])  # Replace 'target_variable' with the actual name of the target variable column\n",
    "y = dataset[\"PRICE\"]  # Replace 'target_variable' with the actual name of the target variable column\n",
    "X_train, X_test, y_train, y_test = train_test_split(X, y, test_size=0.3, random_state=42)"
   ]
  },
  {
   "cell_type": "code",
   "execution_count": 30,
   "metadata": {},
   "outputs": [
    {
     "name": "stdout",
     "output_type": "stream",
     "text": [
      "0.9977279112380488\n"
     ]
    }
   ],
   "source": [
    "ridge = Ridge(alpha=10, solver='saga', tol=1e-4, random_state=42)\n",
    "\n",
    "ridge.fit(X_train, y_train)\n",
    "print(ridge.score(X_test, y_test))  "
   ]
  },
  {
   "cell_type": "code",
   "execution_count": 31,
   "metadata": {},
   "outputs": [
    {
     "name": "stdout",
     "output_type": "stream",
     "text": [
      "4\n",
      "11\n"
     ]
    }
   ],
   "source": [
    "# What is the index of most important feature? Note the index starts from 0. Ignore the intercept for this question.\n",
    "print(ridge.coef_.argmax())\n",
    "# What is the index of least important feature? Note the index starts from 0. Ignore the intercept for this question.\n",
    "print(ridge.coef_.argmin())"
   ]
  },
  {
   "cell_type": "code",
   "execution_count": 32,
   "metadata": {},
   "outputs": [
    {
     "name": "stdout",
     "output_type": "stream",
     "text": [
      "{'alpha': 0.1, 'penalty': 'l2', 'tol': 0.001}\n",
      "-0.10648834925199839\n",
      "mean_absolute_error: 0.12854261070389397\n"
     ]
    }
   ],
   "source": [
    "sgdregressor = SGDRegressor(random_state=42)\n",
    "\n",
    "grid_search = GridSearchCV(estimator=sgdregressor, param_grid={'penalty': ['l1', 'l2'], 'alpha': [1e-5, 1e-4, 1e-3, 1e-2, 1e-1], 'tol':[1e-4, 1e-3, 1e-2, 1e-1]}, cv=5, n_jobs=-1, scoring='neg_mean_absolute_error') \n",
    "grid_search.fit(X_train, y_train)\n",
    "print(grid_search.best_params_)\n",
    "print(grid_search.best_score_)\n",
    "print('mean_absolute_error:', mean_absolute_error(y_test, grid_search.predict(X_test)))"
   ]
  },
  {
   "cell_type": "code",
   "execution_count": 36,
   "metadata": {},
   "outputs": [
    {
     "name": "stdout",
     "output_type": "stream",
     "text": [
      "{'lasso__alpha': 0.001, 'pca__n_components': 0.9}\n",
      "r2: 0.03178743336842138\n",
      "0.9831288803433309\n"
     ]
    }
   ],
   "source": [
    "# Create a pipeline of the PCA() as transformer and Lasso as an estimator\n",
    "from sklearn.pipeline import Pipeline\n",
    "from sklearn.decomposition import PCA\n",
    "\n",
    "# Use GridSearchCV for tuning the hyperparameters of the created pipeline on training dataset.\n",
    "\t# Values of n_components for PCA to be [0.9, 0.95]\n",
    "\t# lasso alpha value to be taken as : [10, 1, 0.01, 0.001]\n",
    "\t# scoring : neg_mean_absolute_error.\n",
    "\t# Use 5 fold cross validation.\n",
    "\t# n_jobs = -1 (negative one) [it helps in using all the computational power to run this job]\n",
    "\n",
    "pipeline = Pipeline([('pca', PCA()), ('lasso', Lasso())])\n",
    "param_grid = {'pca__n_components': [0.9, 0.95], 'lasso__alpha': [10, 1, 0.01, 0.001]}\n",
    "grid_search = GridSearchCV(estimator=pipeline, param_grid=param_grid, cv=5, n_jobs=-1, scoring='neg_mean_absolute_error')\n",
    "grid_search.fit(X_train, y_train)\n",
    "print(grid_search.best_params_)\n",
    "print(\"r2:\", r2_score(y_test, grid_search.predict(X_test)))\n",
    "# How much variance is explained (Eigen value) by the first principle component?\n",
    "print(grid_search.best_estimator_.named_steps['pca'].explained_variance_ratio_[0])"
   ]
  },
  {
   "cell_type": "code",
   "execution_count": 37,
   "metadata": {},
   "outputs": [
    {
     "name": "stdout",
     "output_type": "stream",
     "text": [
      "r2: 0.6483691477206266\n"
     ]
    }
   ],
   "source": [
    "# Create a pipeline of the PolynomialFeatures as transformer and Lasso as an estimator with the following parameters:\n",
    "#   - For PolynomialFeatures:\n",
    "#     - interaction_only = False\n",
    "#     - degree = 2\n",
    "#   - For Lasso:\n",
    "#     - alpha = 1\n",
    "#     - warm_start = True\n",
    "#     - random state as 0\n",
    "\n",
    "# Fit the pipeline on the training dataset and find the r2 score on the test dataset.\n",
    "from sklearn.preprocessing import PolynomialFeatures\n",
    "pipeline = Pipeline([('poly', PolynomialFeatures(interaction_only=False, degree=2)), ('lasso', Lasso(alpha=1, warm_start=True, random_state=0))])\n",
    "pipeline.fit(X_train, y_train)\n",
    "print(\"r2:\", r2_score(y_test, pipeline.predict(X_test)))"
   ]
  },
  {
   "cell_type": "code",
   "execution_count": 38,
   "metadata": {},
   "outputs": [
    {
     "name": "stdout",
     "output_type": "stream",
     "text": [
      "[ True  True  True  True  True False  True  True  True  True  True  True\n",
      "  True]\n"
     ]
    }
   ],
   "source": [
    "# If you eliminate 1 feature with recursive feature elimination, which feature will be eliminated? using linear regression\n",
    "from sklearn.feature_selection import RFE\n",
    "\n",
    "rfe = RFE(estimator=LinearRegression(), n_features_to_select=X_train.shape[1]-1)\n",
    "rfe.fit(X_train, y_train)\n",
    "print(rfe.support_)\n",
    "\n"
   ]
  }
 ],
 "metadata": {
  "kernelspec": {
   "display_name": "iitm-mlp",
   "language": "python",
   "name": "python3"
  },
  "language_info": {
   "codemirror_mode": {
    "name": "ipython",
    "version": 3
   },
   "file_extension": ".py",
   "mimetype": "text/x-python",
   "name": "python",
   "nbconvert_exporter": "python",
   "pygments_lexer": "ipython3",
   "version": "3.12.3"
  }
 },
 "nbformat": 4,
 "nbformat_minor": 2
}
