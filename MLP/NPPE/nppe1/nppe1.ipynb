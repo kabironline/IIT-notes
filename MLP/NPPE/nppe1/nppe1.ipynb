{
 "cells": [
  {
   "cell_type": "code",
   "execution_count": 2,
   "metadata": {},
   "outputs": [],
   "source": [
    "import pandas as pd\n",
    "from sklearn.preprocessing import MinMaxScaler, StandardScaler\n",
    "from sklearn.impute import SimpleImputer\n",
    "from sklearn.pipeline import Pipeline\n",
    "from sklearn.compose import ColumnTransformer\n",
    "from sklearn.preprocessing import OneHotEncoder\n",
    "from sklearn.model_selection import train_test_split"
   ]
  },
  {
   "cell_type": "code",
   "execution_count": 3,
   "metadata": {},
   "outputs": [
    {
     "data": {
      "text/html": [
       "<div>\n",
       "<style scoped>\n",
       "    .dataframe tbody tr th:only-of-type {\n",
       "        vertical-align: middle;\n",
       "    }\n",
       "\n",
       "    .dataframe tbody tr th {\n",
       "        vertical-align: top;\n",
       "    }\n",
       "\n",
       "    .dataframe thead th {\n",
       "        text-align: right;\n",
       "    }\n",
       "</style>\n",
       "<table border=\"1\" class=\"dataframe\">\n",
       "  <thead>\n",
       "    <tr style=\"text-align: right;\">\n",
       "      <th></th>\n",
       "      <th>CRIM</th>\n",
       "      <th>ZN</th>\n",
       "      <th>INDUS</th>\n",
       "      <th>POLINDEX</th>\n",
       "      <th>RM</th>\n",
       "      <th>AGE</th>\n",
       "      <th>DIS</th>\n",
       "      <th>HIGHWAYCOUNT</th>\n",
       "      <th>TAX</th>\n",
       "      <th>PTRATIO</th>\n",
       "      <th>IMM</th>\n",
       "      <th>BPL</th>\n",
       "      <th>PRICE</th>\n",
       "      <th>RIVERSIDE</th>\n",
       "    </tr>\n",
       "  </thead>\n",
       "  <tbody>\n",
       "    <tr>\n",
       "      <th>0</th>\n",
       "      <td>1.026769</td>\n",
       "      <td>1.429034</td>\n",
       "      <td>7.851300</td>\n",
       "      <td>1.134216</td>\n",
       "      <td>6.0</td>\n",
       "      <td>42.0</td>\n",
       "      <td>5.251911</td>\n",
       "      <td>5</td>\n",
       "      <td>279.201277</td>\n",
       "      <td>20.689586</td>\n",
       "      <td>398.811960</td>\n",
       "      <td>10.461456</td>\n",
       "      <td>22.991633</td>\n",
       "      <td>NO</td>\n",
       "    </tr>\n",
       "    <tr>\n",
       "      <th>1</th>\n",
       "      <td>0.848089</td>\n",
       "      <td>0.255543</td>\n",
       "      <td>6.263434</td>\n",
       "      <td>1.245993</td>\n",
       "      <td>7.0</td>\n",
       "      <td>63.0</td>\n",
       "      <td>4.305546</td>\n",
       "      <td>8</td>\n",
       "      <td>307.444529</td>\n",
       "      <td>17.465398</td>\n",
       "      <td>377.153649</td>\n",
       "      <td>11.619690</td>\n",
       "      <td>24.551055</td>\n",
       "      <td>NO</td>\n",
       "    </tr>\n",
       "    <tr>\n",
       "      <th>2</th>\n",
       "      <td>10.925905</td>\n",
       "      <td>0.441022</td>\n",
       "      <td>18.322960</td>\n",
       "      <td>2.824833</td>\n",
       "      <td>8.0</td>\n",
       "      <td>-2.0</td>\n",
       "      <td>2.409495</td>\n",
       "      <td>25</td>\n",
       "      <td>666.492973</td>\n",
       "      <td>20.351601</td>\n",
       "      <td>387.061355</td>\n",
       "      <td>19.366070</td>\n",
       "      <td>15.875346</td>\n",
       "      <td>NO</td>\n",
       "    </tr>\n",
       "    <tr>\n",
       "      <th>3</th>\n",
       "      <td>0.559027</td>\n",
       "      <td>1.041175</td>\n",
       "      <td>11.114920</td>\n",
       "      <td>0.794952</td>\n",
       "      <td>6.0</td>\n",
       "      <td>9.0</td>\n",
       "      <td>6.898669</td>\n",
       "      <td>4</td>\n",
       "      <td>305.514181</td>\n",
       "      <td>19.787314</td>\n",
       "      <td>391.778647</td>\n",
       "      <td>6.206820</td>\n",
       "      <td>23.007756</td>\n",
       "      <td>NO</td>\n",
       "    </tr>\n",
       "    <tr>\n",
       "      <th>4</th>\n",
       "      <td>0.905063</td>\n",
       "      <td>81.167963</td>\n",
       "      <td>3.673369</td>\n",
       "      <td>1.029030</td>\n",
       "      <td>8.0</td>\n",
       "      <td>20.0</td>\n",
       "      <td>10.246463</td>\n",
       "      <td>1</td>\n",
       "      <td>315.913960</td>\n",
       "      <td>17.360439</td>\n",
       "      <td>395.833166</td>\n",
       "      <td>10.827105</td>\n",
       "      <td>21.503177</td>\n",
       "      <td>NO</td>\n",
       "    </tr>\n",
       "  </tbody>\n",
       "</table>\n",
       "</div>"
      ],
      "text/plain": [
       "        CRIM         ZN      INDUS  POLINDEX   RM   AGE        DIS  \\\n",
       "0   1.026769   1.429034   7.851300  1.134216  6.0  42.0   5.251911   \n",
       "1   0.848089   0.255543   6.263434  1.245993  7.0  63.0   4.305546   \n",
       "2  10.925905   0.441022  18.322960  2.824833  8.0  -2.0   2.409495   \n",
       "3   0.559027   1.041175  11.114920  0.794952  6.0   9.0   6.898669   \n",
       "4   0.905063  81.167963   3.673369  1.029030  8.0  20.0  10.246463   \n",
       "\n",
       "   HIGHWAYCOUNT         TAX    PTRATIO         IMM        BPL      PRICE  \\\n",
       "0             5  279.201277  20.689586  398.811960  10.461456  22.991633   \n",
       "1             8  307.444529  17.465398  377.153649  11.619690  24.551055   \n",
       "2            25  666.492973  20.351601  387.061355  19.366070  15.875346   \n",
       "3             4  305.514181  19.787314  391.778647   6.206820  23.007756   \n",
       "4             1  315.913960  17.360439  395.833166  10.827105  21.503177   \n",
       "\n",
       "  RIVERSIDE  \n",
       "0        NO  \n",
       "1        NO  \n",
       "2        NO  \n",
       "3        NO  \n",
       "4        NO  "
      ]
     },
     "execution_count": 3,
     "metadata": {},
     "output_type": "execute_result"
    }
   ],
   "source": [
    "df = pd.read_csv('NPPE1_Preprocessing1.csv')\n",
    "df.head()"
   ]
  },
  {
   "cell_type": "code",
   "execution_count": 4,
   "metadata": {},
   "outputs": [
    {
     "name": "stdout",
     "output_type": "stream",
     "text": [
      "24.355923220694248\n"
     ]
    }
   ],
   "source": [
    "averagePrice = df['PRICE'].mean()\n",
    "print(averagePrice)"
   ]
  },
  {
   "cell_type": "code",
   "execution_count": 5,
   "metadata": {},
   "outputs": [
    {
     "name": "stdout",
     "output_type": "stream",
     "text": [
      "CRIM            3953\n",
      "ZN              3953\n",
      "INDUS           3953\n",
      "POLINDEX        3953\n",
      "RM              3953\n",
      "AGE             3953\n",
      "DIS             3953\n",
      "HIGHWAYCOUNT    3953\n",
      "TAX             3953\n",
      "PTRATIO         3953\n",
      "IMM             3953\n",
      "BPL             3953\n",
      "PRICE           3953\n",
      "RIVERSIDE       3953\n",
      "dtype: int64\n"
     ]
    }
   ],
   "source": [
    "houses_with_more_than_5_bedrooms = df[df['RM'] >= 5]\n",
    "print(houses_with_more_than_5_bedrooms.count())"
   ]
  },
  {
   "cell_type": "code",
   "execution_count": 6,
   "metadata": {},
   "outputs": [
    {
     "name": "stdout",
     "output_type": "stream",
     "text": [
      "52.36590175716407\n"
     ]
    }
   ],
   "source": [
    "top_10_most_expensive_houses = df.nlargest(10, 'PRICE')\n",
    "print(top_10_most_expensive_houses['PRICE'].mean())"
   ]
  },
  {
   "cell_type": "code",
   "execution_count": 7,
   "metadata": {},
   "outputs": [
    {
     "name": "stdout",
     "output_type": "stream",
     "text": [
      "CRIM            40\n",
      "ZN              40\n",
      "INDUS           40\n",
      "POLINDEX        40\n",
      "RM              40\n",
      "AGE             40\n",
      "DIS             40\n",
      "HIGHWAYCOUNT    40\n",
      "TAX             40\n",
      "PTRATIO         40\n",
      "IMM             40\n",
      "BPL             40\n",
      "PRICE           40\n",
      "RIVERSIDE       40\n",
      "dtype: int64\n"
     ]
    }
   ],
   "source": [
    "# What is the total number of missing or unknown values in the number of rooms feature?\n",
    "missing_rooms = df.where(df['RM'] <= 0).count()\n",
    "print(missing_rooms)"
   ]
  },
  {
   "cell_type": "code",
   "execution_count": 8,
   "metadata": {},
   "outputs": [
    {
     "name": "stdout",
     "output_type": "stream",
     "text": [
      "CRIM            50\n",
      "ZN              50\n",
      "INDUS           50\n",
      "POLINDEX        50\n",
      "RM              50\n",
      "AGE             50\n",
      "DIS             50\n",
      "HIGHWAYCOUNT    50\n",
      "TAX             50\n",
      "PTRATIO         50\n",
      "IMM             50\n",
      "BPL             50\n",
      "PRICE           50\n",
      "RIVERSIDE       50\n",
      "dtype: int64\n"
     ]
    }
   ],
   "source": [
    "# What is the total number of missing or unknown values in the age feature?\n",
    "missing_age = df.where(df['AGE'] <= 0).count()\n",
    "print(missing_age)"
   ]
  },
  {
   "cell_type": "code",
   "execution_count": 9,
   "metadata": {},
   "outputs": [
    {
     "name": "stdout",
     "output_type": "stream",
     "text": [
      "CRIM            88\n",
      "ZN              88\n",
      "INDUS           88\n",
      "POLINDEX        88\n",
      "RM              88\n",
      "AGE             88\n",
      "DIS             88\n",
      "HIGHWAYCOUNT    88\n",
      "TAX             88\n",
      "PTRATIO         88\n",
      "IMM             88\n",
      "BPL             88\n",
      "PRICE           88\n",
      "RIVERSIDE       88\n",
      "dtype: int64\n"
     ]
    }
   ],
   "source": [
    "# What is the total number of missing or unknown values in the RIVERSIDE feature?\n",
    "missing_riverside = df.where(df['RIVERSIDE'] == \"UNKNOWN\").count()\n",
    "print(missing_riverside)"
   ]
  },
  {
   "cell_type": "code",
   "execution_count": 10,
   "metadata": {},
   "outputs": [
    {
     "name": "stdout",
     "output_type": "stream",
     "text": [
      "CRIM            44\n",
      "ZN              44\n",
      "INDUS           44\n",
      "POLINDEX        44\n",
      "RM              44\n",
      "AGE             44\n",
      "DIS             44\n",
      "HIGHWAYCOUNT    44\n",
      "TAX             44\n",
      "PTRATIO         44\n",
      "IMM             44\n",
      "BPL             44\n",
      "PRICE           44\n",
      "RIVERSIDE       44\n",
      "dtype: int64\n"
     ]
    }
   ],
   "source": [
    "# How many houses are on riverside and were built within the last 50 years (i.e. a house 50 years old or younger)? For this question, ignore the rows that have missing values in either riverside feature or age feature.\n",
    "riverside_and_young = df[(df['RIVERSIDE'] == \"YES\") & (df['AGE'] <= 50) & (df['AGE'] > 0)]\n",
    "print(riverside_and_young.count())"
   ]
  },
  {
   "cell_type": "code",
   "execution_count": 11,
   "metadata": {},
   "outputs": [
    {
     "name": "stdout",
     "output_type": "stream",
     "text": [
      "CRIM            1211\n",
      "ZN              1211\n",
      "INDUS           1211\n",
      "POLINDEX        1211\n",
      "RM              1211\n",
      "AGE             1211\n",
      "DIS             1211\n",
      "HIGHWAYCOUNT    1211\n",
      "TAX             1211\n",
      "PTRATIO         1211\n",
      "IMM             1211\n",
      "BPL             1211\n",
      "PRICE           1211\n",
      "RIVERSIDE       1211\n",
      "dtype: int64\n"
     ]
    }
   ],
   "source": [
    "# How many houses are near to exactly 6, 7 or 8 highways (all three inclusive)?\n",
    "near_highways = df[(df['HIGHWAYCOUNT'] >= 6) & (df['HIGHWAYCOUNT'] <= 8)]\n",
    "print(near_highways.count())"
   ]
  },
  {
   "cell_type": "code",
   "execution_count": 12,
   "metadata": {},
   "outputs": [
    {
     "name": "stdout",
     "output_type": "stream",
     "text": [
      "CATEGORY\n",
      "3    2028\n",
      "2    1158\n",
      "4     503\n",
      "5     268\n",
      "1      43\n",
      "Name: count, dtype: int64\n"
     ]
    }
   ],
   "source": [
    "# Create a column 'CATEGORY' and divide the houses in categories as following\n",
    "# Category 1: House price < 10.0\n",
    "# Category 2: House price >= 10.0 and < 20.0\n",
    "# Category 3: House price >= 20.0 and < 30.0\n",
    "# Category 4: House price >= 30.0 and < 40.0\n",
    "# Category 5: House price >= 40.0\n",
    "# Which category has the highest number of records?\n",
    "\n",
    "def categorize(price):\n",
    "    if price < 10:\n",
    "        return 1\n",
    "    elif price >= 10 and price < 20:\n",
    "        return 2\n",
    "    elif price >= 20 and price < 30:\n",
    "        return 3\n",
    "    elif price >= 30 and price < 40:\n",
    "        return 4\n",
    "    else:\n",
    "        return 5\n",
    "    \n",
    "df['CATEGORY'] = df['PRICE'].apply(categorize)\n",
    "category_counts = df['CATEGORY'].value_counts()\n",
    "print(category_counts)"
   ]
  },
  {
   "cell_type": "code",
   "execution_count": 13,
   "metadata": {},
   "outputs": [
    {
     "name": "stdout",
     "output_type": "stream",
     "text": [
      "CRIM            3872\n",
      "ZN              3872\n",
      "INDUS           3872\n",
      "POLINDEX        3872\n",
      "RM              3872\n",
      "AGE             3872\n",
      "DIS             3872\n",
      "HIGHWAYCOUNT    3872\n",
      "TAX             3872\n",
      "PTRATIO         3872\n",
      "IMM             3872\n",
      "BPL             3872\n",
      "PRICE           3872\n",
      "RIVERSIDE       3872\n",
      "CATEGORY        3872\n",
      "dtype: int64\n"
     ]
    }
   ],
   "source": [
    "# Drop all the rows that have missing values in any of the features where the missing value is represented by -1. or the string \"UNKNOWN\".\n",
    "df = df.dropna()\n",
    "df = df[(df['RM'] != -1) & (df['AGE'] != -1) & (df['HIGHWAYCOUNT'] != -1) & (df['RIVERSIDE'] != \"UNKNOWN\")]\n",
    "print(df.count())\n",
    "\n"
   ]
  },
  {
   "cell_type": "code",
   "execution_count": 14,
   "metadata": {},
   "outputs": [
    {
     "data": {
      "text/plain": [
       "(2710, 2722)"
      ]
     },
     "execution_count": 14,
     "metadata": {},
     "output_type": "execute_result"
    }
   ],
   "source": [
    "X_train, X_test = train_test_split(df, test_size=0.3)\n",
    "pipe1=ColumnTransformer([('scale1',MinMaxScaler(),[0,1]),\n",
    "                            ('scale2',StandardScaler(),[2]),\n",
    "                            ('scale3',MinMaxScaler(),[3]),\n",
    "                            ('impute1',SimpleImputer(strategy='median'),[4]),\n",
    "                            ('impute2',SimpleImputer(strategy='mean'),[5]),\n",
    "                            ('scale6',MinMaxScaler(),[6,7,8,9,10,11]),\n",
    "                            ('impute3',SimpleImputer(strategy='most_frequent'),[12]),\n",
    "                        ])\n",
    "pipe2=ColumnTransformer([('scale7',MinMaxScaler(),[4,5]),('encode1',OneHotEncoder(),[12])],remainder=\"passthrough\")\n",
    "pipe3=Pipeline([(\"ct1\",pipe1),(\"ct2\",pipe2)])\n",
    "pipe3.fit_transform(X_train).shape\n"
   ]
  }
 ],
 "metadata": {
  "kernelspec": {
   "display_name": "iitm-mlp",
   "language": "python",
   "name": "python3"
  },
  "language_info": {
   "codemirror_mode": {
    "name": "ipython",
    "version": 3
   },
   "file_extension": ".py",
   "mimetype": "text/x-python",
   "name": "python",
   "nbconvert_exporter": "python",
   "pygments_lexer": "ipython3",
   "version": "3.12.3"
  }
 },
 "nbformat": 4,
 "nbformat_minor": 2
}
