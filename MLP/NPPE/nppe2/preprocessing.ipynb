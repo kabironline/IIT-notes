{
 "cells": [
  {
   "cell_type": "code",
   "execution_count": 1,
   "metadata": {},
   "outputs": [
    {
     "data": {
      "text/plain": [
       "4000"
      ]
     },
     "execution_count": 1,
     "metadata": {},
     "output_type": "execute_result"
    }
   ],
   "source": [
    "import pandas as  pd\n",
    "import numpy as np\n",
    "\n",
    "dataset=pd.read_csv(\"v1_preprocess.csv\")\n",
    "dataset.head()\n",
    "len(dataset)"
   ]
  },
  {
   "cell_type": "code",
   "execution_count": 2,
   "metadata": {},
   "outputs": [
    {
     "data": {
      "text/plain": [
       "Gender\n",
       "Female     2366\n",
       "Male       1627\n",
       "Unknown       7\n",
       "Name: count, dtype: int64"
      ]
     },
     "execution_count": 2,
     "metadata": {},
     "output_type": "execute_result"
    }
   ],
   "source": [
    "dataset['Gender'].value_counts()"
   ]
  },
  {
   "cell_type": "code",
   "execution_count": 3,
   "metadata": {},
   "outputs": [
    {
     "data": {
      "text/plain": [
       "8"
      ]
     },
     "execution_count": 3,
     "metadata": {},
     "output_type": "execute_result"
    }
   ],
   "source": [
    "l=dataset['Age'].values\n",
    "ctr=0\n",
    "for i in l:\n",
    "    if i<0:\n",
    "        ctr+=1\n",
    "ctr"
   ]
  },
  {
   "cell_type": "code",
   "execution_count": 4,
   "metadata": {},
   "outputs": [
    {
     "data": {
      "text/plain": [
       "9"
      ]
     },
     "execution_count": 4,
     "metadata": {},
     "output_type": "execute_result"
    }
   ],
   "source": [
    "l1=dataset['GlucoseLevel'].values\n",
    "ctr=0\n",
    "for i in l1:\n",
    "    if i<0:\n",
    "        ctr+=1\n",
    "ctr"
   ]
  },
  {
   "cell_type": "code",
   "execution_count": 5,
   "metadata": {},
   "outputs": [
    {
     "data": {
      "text/plain": [
       "LivesIn\n",
       "City       2030\n",
       "Village    1965\n",
       "Unknown       5\n",
       "Name: count, dtype: int64"
      ]
     },
     "execution_count": 5,
     "metadata": {},
     "output_type": "execute_result"
    }
   ],
   "source": [
    "dataset['LivesIn'].value_counts()"
   ]
  },
  {
   "cell_type": "code",
   "execution_count": 6,
   "metadata": {},
   "outputs": [
    {
     "name": "stdout",
     "output_type": "stream",
     "text": [
      "149\n"
     ]
    }
   ],
   "source": [
    "l2=dataset['BMI'].isna()\n",
    "ctr=0\n",
    "for i in l2:\n",
    "    if i==True:\n",
    "        ctr+=1\n",
    "print(ctr)"
   ]
  },
  {
   "cell_type": "code",
   "execution_count": 7,
   "metadata": {},
   "outputs": [
    {
     "data": {
      "text/plain": [
       "SmokingStatus\n",
       "never smoked       1502\n",
       "Unknown            1204\n",
       "formerly smoked     697\n",
       "smokes              597\n",
       "Name: count, dtype: int64"
      ]
     },
     "execution_count": 7,
     "metadata": {},
     "output_type": "execute_result"
    }
   ],
   "source": [
    "dataset['SmokingStatus'].value_counts()"
   ]
  },
  {
   "cell_type": "code",
   "execution_count": 8,
   "metadata": {},
   "outputs": [
    {
     "data": {
      "text/plain": [
       "28.857958971695663"
      ]
     },
     "execution_count": 8,
     "metadata": {},
     "output_type": "execute_result"
    }
   ],
   "source": [
    "dataset['BMI'].mean()"
   ]
  },
  {
   "cell_type": "code",
   "execution_count": 9,
   "metadata": {},
   "outputs": [
    {
     "data": {
      "text/plain": [
       "52"
      ]
     },
     "execution_count": 9,
     "metadata": {},
     "output_type": "execute_result"
    }
   ],
   "source": [
    "l3=dataset[((dataset['LivesIn']=='City') & ((dataset['SmokingStatus']==\"formerly smoked\") | (dataset['SmokingStatus']=='smokes')) & (dataset['HeartAttack']=='Yes') )]\n",
    "len(l3)"
   ]
  },
  {
   "cell_type": "code",
   "execution_count": 10,
   "metadata": {},
   "outputs": [
    {
     "name": "stdout",
     "output_type": "stream",
     "text": [
      "1335\n",
      "754\n",
      "795\n",
      "24\n"
     ]
    }
   ],
   "source": [
    "print(len(dataset[((dataset['Gender']=='Female') & (dataset['HasTension']=='No') & (dataset['AnyHeartDisease']=='No') & (dataset['NeverMarried']=='Yes'))]))\n",
    "print(len(dataset[((dataset['Gender']=='Female') & (dataset['HasTension']=='No') & (dataset['AnyHeartDisease']=='No') & (dataset['NeverMarried']=='No'))]))\n",
    "print(len(dataset[((dataset['Gender']=='Male') & (dataset['HasTension']=='No') & (dataset['AnyHeartDisease']=='No') & (dataset['NeverMarried']=='Yes'))]))\n",
    "print(len(dataset[((dataset['Gender']=='Male') & (dataset['HasTension']=='Yes') & (dataset['AnyHeartDisease']=='Yes') & (dataset['NeverMarried']=='Yes'))]))\n"
   ]
  },
  {
   "cell_type": "code",
   "execution_count": 11,
   "metadata": {},
   "outputs": [
    {
     "name": "stdout",
     "output_type": "stream",
     "text": [
      "<class 'pandas.core.frame.DataFrame'>\n",
      "RangeIndex: 4000 entries, 0 to 3999\n",
      "Data columns (total 11 columns):\n",
      " #   Column           Non-Null Count  Dtype  \n",
      "---  ------           --------------  -----  \n",
      " 0   Gender           4000 non-null   object \n",
      " 1   Age              4000 non-null   float64\n",
      " 2   HasTension       4000 non-null   object \n",
      " 3   AnyHeartDisease  4000 non-null   object \n",
      " 4   NeverMarried     4000 non-null   object \n",
      " 5   Occupation       4000 non-null   object \n",
      " 6   LivesIn          4000 non-null   object \n",
      " 7   GlucoseLevel     4000 non-null   float64\n",
      " 8   BMI              3851 non-null   float64\n",
      " 9   SmokingStatus    4000 non-null   object \n",
      " 10  HeartAttack      4000 non-null   object \n",
      "dtypes: float64(3), object(8)\n",
      "memory usage: 343.9+ KB\n"
     ]
    }
   ],
   "source": [
    "dataset.info()"
   ]
  },
  {
   "cell_type": "code",
   "execution_count": 12,
   "metadata": {},
   "outputs": [
    {
     "data": {
      "text/plain": [
       "HeartAttack\n",
       "No     3806\n",
       "Yes     194\n",
       "Name: count, dtype: int64"
      ]
     },
     "execution_count": 12,
     "metadata": {},
     "output_type": "execute_result"
    }
   ],
   "source": [
    "dataset['HeartAttack'].value_counts()"
   ]
  }
 ],
 "metadata": {
  "kernelspec": {
   "display_name": "Python 3",
   "language": "python",
   "name": "python3"
  },
  "language_info": {
   "codemirror_mode": {
    "name": "ipython",
    "version": 3
   },
   "file_extension": ".py",
   "mimetype": "text/x-python",
   "name": "python",
   "nbconvert_exporter": "python",
   "pygments_lexer": "ipython3",
   "version": "3.12.3"
  }
 },
 "nbformat": 4,
 "nbformat_minor": 2
}
