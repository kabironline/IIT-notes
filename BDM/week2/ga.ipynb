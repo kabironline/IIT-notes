{
 "cells": [
  {
   "cell_type": "code",
   "execution_count": 2,
   "metadata": {},
   "outputs": [],
   "source": [
    "import pandas"
   ]
  },
  {
   "cell_type": "code",
   "execution_count": 3,
   "metadata": {},
   "outputs": [
    {
     "data": {
      "text/html": [
       "<div>\n",
       "<style scoped>\n",
       "    .dataframe tbody tr th:only-of-type {\n",
       "        vertical-align: middle;\n",
       "    }\n",
       "\n",
       "    .dataframe tbody tr th {\n",
       "        vertical-align: top;\n",
       "    }\n",
       "\n",
       "    .dataframe thead th {\n",
       "        text-align: right;\n",
       "    }\n",
       "</style>\n",
       "<table border=\"1\" class=\"dataframe\">\n",
       "  <thead>\n",
       "    <tr style=\"text-align: right;\">\n",
       "      <th></th>\n",
       "      <th>STATE</th>\n",
       "      <th>REGION_TYPE</th>\n",
       "      <th>REASON_FOR_NON_RESPONSE</th>\n",
       "      <th>RESPONSE_STATUS</th>\n",
       "      <th>HH_WEIGHT_MS</th>\n",
       "      <th>AGE_GROUP</th>\n",
       "      <th>OCCUPATION_GROUP</th>\n",
       "      <th>EDUCATION_GROUP</th>\n",
       "      <th>GENDER_GROUP</th>\n",
       "      <th>SIZE_GROUP</th>\n",
       "      <th>...</th>\n",
       "      <th>MONTHLY_EXPENSE_ON_MEDICINES</th>\n",
       "      <th>MONTHLY_EXPENSE_ON_DOCTORS_PHYSIOTHERAPISTS_FEE</th>\n",
       "      <th>MONTHLY_EXPENSE_ON_MEDICAL_TESTS</th>\n",
       "      <th>MONTHLY_EXPENSE_ON_HYGIENE_PRODUCTS</th>\n",
       "      <th>MONTHLY_EXPENSE_ON_EMI_FOR_HOUSE</th>\n",
       "      <th>MONTHLY_EXPENSE_ON_EMI_FOR_VEHICLES</th>\n",
       "      <th>MONTHLY_EXPENSE_ON_OTHER_EMIS</th>\n",
       "      <th>MONTHLY_EXPENSE_ON_DOMESTIC_HELP</th>\n",
       "      <th>MONTHLY_EXPENSE_ON_POCKET_MONEY</th>\n",
       "      <th>MONTHLY_EXPENSE_ON_PETS</th>\n",
       "    </tr>\n",
       "  </thead>\n",
       "  <tbody>\n",
       "    <tr>\n",
       "      <th>0</th>\n",
       "      <td>Madhya Pradesh</td>\n",
       "      <td>RURAL</td>\n",
       "      <td>No Failure</td>\n",
       "      <td>Accepted</td>\n",
       "      <td>1600.00</td>\n",
       "      <td>Grown-up - dominant</td>\n",
       "      <td>Industrial Workers</td>\n",
       "      <td>All Matriculates household</td>\n",
       "      <td>Male Majority</td>\n",
       "      <td>3 Members</td>\n",
       "      <td>...</td>\n",
       "      <td>0.0</td>\n",
       "      <td>0.0</td>\n",
       "      <td>820.0</td>\n",
       "      <td>360.0</td>\n",
       "      <td>0.0</td>\n",
       "      <td>0.0</td>\n",
       "      <td>0.0</td>\n",
       "      <td>0.0</td>\n",
       "      <td>0.0</td>\n",
       "      <td>0.0</td>\n",
       "    </tr>\n",
       "    <tr>\n",
       "      <th>1</th>\n",
       "      <td>Punjab</td>\n",
       "      <td>RURAL</td>\n",
       "      <td>No Failure</td>\n",
       "      <td>Accepted</td>\n",
       "      <td>2438.44</td>\n",
       "      <td>Grown-up - dominant</td>\n",
       "      <td>Wage Labourers</td>\n",
       "      <td>Households of all literates</td>\n",
       "      <td>Male Majority</td>\n",
       "      <td>5 Members</td>\n",
       "      <td>...</td>\n",
       "      <td>340.0</td>\n",
       "      <td>0.0</td>\n",
       "      <td>0.0</td>\n",
       "      <td>0.0</td>\n",
       "      <td>0.0</td>\n",
       "      <td>0.0</td>\n",
       "      <td>0.0</td>\n",
       "      <td>0.0</td>\n",
       "      <td>285.0</td>\n",
       "      <td>0.0</td>\n",
       "    </tr>\n",
       "    <tr>\n",
       "      <th>3</th>\n",
       "      <td>West Bengal</td>\n",
       "      <td>RURAL</td>\n",
       "      <td>No Failure</td>\n",
       "      <td>Accepted</td>\n",
       "      <td>1498.36</td>\n",
       "      <td>Balanced households with no Seniors</td>\n",
       "      <td>Industrial Workers</td>\n",
       "      <td>Households of all literates</td>\n",
       "      <td>Balanced</td>\n",
       "      <td>2 Members</td>\n",
       "      <td>...</td>\n",
       "      <td>2500.0</td>\n",
       "      <td>0.0</td>\n",
       "      <td>0.0</td>\n",
       "      <td>385.0</td>\n",
       "      <td>0.0</td>\n",
       "      <td>2200.0</td>\n",
       "      <td>0.0</td>\n",
       "      <td>0.0</td>\n",
       "      <td>1400.0</td>\n",
       "      <td>0.0</td>\n",
       "    </tr>\n",
       "    <tr>\n",
       "      <th>4</th>\n",
       "      <td>Haryana</td>\n",
       "      <td>URBAN</td>\n",
       "      <td>No Failure</td>\n",
       "      <td>Accepted</td>\n",
       "      <td>1986.47</td>\n",
       "      <td>Grown-up - dominant</td>\n",
       "      <td>Wage Labourers</td>\n",
       "      <td>Households of all literates</td>\n",
       "      <td>Female Majority</td>\n",
       "      <td>5 Members</td>\n",
       "      <td>...</td>\n",
       "      <td>375.0</td>\n",
       "      <td>0.0</td>\n",
       "      <td>0.0</td>\n",
       "      <td>0.0</td>\n",
       "      <td>0.0</td>\n",
       "      <td>0.0</td>\n",
       "      <td>0.0</td>\n",
       "      <td>0.0</td>\n",
       "      <td>0.0</td>\n",
       "      <td>2500.0</td>\n",
       "    </tr>\n",
       "    <tr>\n",
       "      <th>5</th>\n",
       "      <td>Bihar</td>\n",
       "      <td>RURAL</td>\n",
       "      <td>No Failure</td>\n",
       "      <td>Accepted</td>\n",
       "      <td>710.85</td>\n",
       "      <td>Balanced households with no Seniors</td>\n",
       "      <td>Organised Farmers</td>\n",
       "      <td>All Matriculates household</td>\n",
       "      <td>Male Majority</td>\n",
       "      <td>5 Members</td>\n",
       "      <td>...</td>\n",
       "      <td>980.0</td>\n",
       "      <td>600.0</td>\n",
       "      <td>300.0</td>\n",
       "      <td>360.0</td>\n",
       "      <td>5100.0</td>\n",
       "      <td>2000.0</td>\n",
       "      <td>1400.0</td>\n",
       "      <td>0.0</td>\n",
       "      <td>810.0</td>\n",
       "      <td>480.0</td>\n",
       "    </tr>\n",
       "    <tr>\n",
       "      <th>...</th>\n",
       "      <td>...</td>\n",
       "      <td>...</td>\n",
       "      <td>...</td>\n",
       "      <td>...</td>\n",
       "      <td>...</td>\n",
       "      <td>...</td>\n",
       "      <td>...</td>\n",
       "      <td>...</td>\n",
       "      <td>...</td>\n",
       "      <td>...</td>\n",
       "      <td>...</td>\n",
       "      <td>...</td>\n",
       "      <td>...</td>\n",
       "      <td>...</td>\n",
       "      <td>...</td>\n",
       "      <td>...</td>\n",
       "      <td>...</td>\n",
       "      <td>...</td>\n",
       "      <td>...</td>\n",
       "      <td>...</td>\n",
       "      <td>...</td>\n",
       "    </tr>\n",
       "    <tr>\n",
       "      <th>94</th>\n",
       "      <td>Karnataka</td>\n",
       "      <td>RURAL</td>\n",
       "      <td>No Failure</td>\n",
       "      <td>Accepted</td>\n",
       "      <td>1574.54</td>\n",
       "      <td>Grown-up - dominant</td>\n",
       "      <td>Self-employed Entrepreneurs</td>\n",
       "      <td>Matriculates majority household</td>\n",
       "      <td>Male Majority</td>\n",
       "      <td>4 Members</td>\n",
       "      <td>...</td>\n",
       "      <td>1130.0</td>\n",
       "      <td>0.0</td>\n",
       "      <td>0.0</td>\n",
       "      <td>0.0</td>\n",
       "      <td>0.0</td>\n",
       "      <td>0.0</td>\n",
       "      <td>0.0</td>\n",
       "      <td>0.0</td>\n",
       "      <td>500.0</td>\n",
       "      <td>580.0</td>\n",
       "    </tr>\n",
       "    <tr>\n",
       "      <th>95</th>\n",
       "      <td>Punjab</td>\n",
       "      <td>URBAN</td>\n",
       "      <td>No Failure</td>\n",
       "      <td>Accepted</td>\n",
       "      <td>2551.99</td>\n",
       "      <td>Grown-up - dominant</td>\n",
       "      <td>Industrial Workers</td>\n",
       "      <td>Households of all literates</td>\n",
       "      <td>Male Majority</td>\n",
       "      <td>3 Members</td>\n",
       "      <td>...</td>\n",
       "      <td>150.0</td>\n",
       "      <td>0.0</td>\n",
       "      <td>0.0</td>\n",
       "      <td>50.0</td>\n",
       "      <td>5100.0</td>\n",
       "      <td>0.0</td>\n",
       "      <td>1300.0</td>\n",
       "      <td>0.0</td>\n",
       "      <td>100.0</td>\n",
       "      <td>0.0</td>\n",
       "    </tr>\n",
       "    <tr>\n",
       "      <th>97</th>\n",
       "      <td>West Bengal</td>\n",
       "      <td>URBAN</td>\n",
       "      <td>No Failure</td>\n",
       "      <td>Accepted</td>\n",
       "      <td>2290.03</td>\n",
       "      <td>Others households of Grown-ups</td>\n",
       "      <td>Retired/Aged</td>\n",
       "      <td>Households of all literates</td>\n",
       "      <td>Male Dominated</td>\n",
       "      <td>2 Members</td>\n",
       "      <td>...</td>\n",
       "      <td>1120.0</td>\n",
       "      <td>0.0</td>\n",
       "      <td>0.0</td>\n",
       "      <td>0.0</td>\n",
       "      <td>6100.0</td>\n",
       "      <td>0.0</td>\n",
       "      <td>3000.0</td>\n",
       "      <td>0.0</td>\n",
       "      <td>638.0</td>\n",
       "      <td>0.0</td>\n",
       "    </tr>\n",
       "    <tr>\n",
       "      <th>98</th>\n",
       "      <td>Karnataka</td>\n",
       "      <td>URBAN</td>\n",
       "      <td>No Failure</td>\n",
       "      <td>Accepted</td>\n",
       "      <td>1565.80</td>\n",
       "      <td>Balanced households with no Seniors</td>\n",
       "      <td>Wage Labourers</td>\n",
       "      <td>Households of some literates</td>\n",
       "      <td>Balanced</td>\n",
       "      <td>2 Members</td>\n",
       "      <td>...</td>\n",
       "      <td>340.0</td>\n",
       "      <td>0.0</td>\n",
       "      <td>0.0</td>\n",
       "      <td>0.0</td>\n",
       "      <td>4200.0</td>\n",
       "      <td>0.0</td>\n",
       "      <td>1600.0</td>\n",
       "      <td>0.0</td>\n",
       "      <td>100.0</td>\n",
       "      <td>580.0</td>\n",
       "    </tr>\n",
       "    <tr>\n",
       "      <th>99</th>\n",
       "      <td>Kerala</td>\n",
       "      <td>RURAL</td>\n",
       "      <td>No Failure</td>\n",
       "      <td>Accepted</td>\n",
       "      <td>1214.86</td>\n",
       "      <td>Balanced households with no Seniors</td>\n",
       "      <td>Agricultural Labourers</td>\n",
       "      <td>Matriculates majority household</td>\n",
       "      <td>Balanced</td>\n",
       "      <td>1 Member</td>\n",
       "      <td>...</td>\n",
       "      <td>0.0</td>\n",
       "      <td>0.0</td>\n",
       "      <td>0.0</td>\n",
       "      <td>300.0</td>\n",
       "      <td>2900.0</td>\n",
       "      <td>0.0</td>\n",
       "      <td>1400.0</td>\n",
       "      <td>0.0</td>\n",
       "      <td>350.0</td>\n",
       "      <td>0.0</td>\n",
       "    </tr>\n",
       "  </tbody>\n",
       "</table>\n",
       "<p>65 rows × 65 columns</p>\n",
       "</div>"
      ],
      "text/plain": [
       "             STATE REGION_TYPE REASON_FOR_NON_RESPONSE RESPONSE_STATUS  \\\n",
       "0   Madhya Pradesh       RURAL              No Failure        Accepted   \n",
       "1           Punjab       RURAL              No Failure        Accepted   \n",
       "3      West Bengal       RURAL              No Failure        Accepted   \n",
       "4          Haryana       URBAN              No Failure        Accepted   \n",
       "5            Bihar       RURAL              No Failure        Accepted   \n",
       "..             ...         ...                     ...             ...   \n",
       "94       Karnataka       RURAL              No Failure        Accepted   \n",
       "95          Punjab       URBAN              No Failure        Accepted   \n",
       "97     West Bengal       URBAN              No Failure        Accepted   \n",
       "98       Karnataka       URBAN              No Failure        Accepted   \n",
       "99          Kerala       RURAL              No Failure        Accepted   \n",
       "\n",
       "    HH_WEIGHT_MS                            AGE_GROUP  \\\n",
       "0        1600.00                  Grown-up - dominant   \n",
       "1        2438.44                  Grown-up - dominant   \n",
       "3        1498.36  Balanced households with no Seniors   \n",
       "4        1986.47                  Grown-up - dominant   \n",
       "5         710.85  Balanced households with no Seniors   \n",
       "..           ...                                  ...   \n",
       "94       1574.54                  Grown-up - dominant   \n",
       "95       2551.99                  Grown-up - dominant   \n",
       "97       2290.03       Others households of Grown-ups   \n",
       "98       1565.80  Balanced households with no Seniors   \n",
       "99       1214.86  Balanced households with no Seniors   \n",
       "\n",
       "               OCCUPATION_GROUP                  EDUCATION_GROUP  \\\n",
       "0            Industrial Workers       All Matriculates household   \n",
       "1                Wage Labourers      Households of all literates   \n",
       "3            Industrial Workers      Households of all literates   \n",
       "4                Wage Labourers      Households of all literates   \n",
       "5             Organised Farmers       All Matriculates household   \n",
       "..                          ...                              ...   \n",
       "94  Self-employed Entrepreneurs  Matriculates majority household   \n",
       "95           Industrial Workers      Households of all literates   \n",
       "97                 Retired/Aged      Households of all literates   \n",
       "98               Wage Labourers     Households of some literates   \n",
       "99       Agricultural Labourers  Matriculates majority household   \n",
       "\n",
       "       GENDER_GROUP SIZE_GROUP  ...  MONTHLY_EXPENSE_ON_MEDICINES  \\\n",
       "0     Male Majority  3 Members  ...                           0.0   \n",
       "1     Male Majority  5 Members  ...                         340.0   \n",
       "3          Balanced  2 Members  ...                        2500.0   \n",
       "4   Female Majority  5 Members  ...                         375.0   \n",
       "5     Male Majority  5 Members  ...                         980.0   \n",
       "..              ...        ...  ...                           ...   \n",
       "94    Male Majority  4 Members  ...                        1130.0   \n",
       "95    Male Majority  3 Members  ...                         150.0   \n",
       "97   Male Dominated  2 Members  ...                        1120.0   \n",
       "98         Balanced  2 Members  ...                         340.0   \n",
       "99         Balanced   1 Member  ...                           0.0   \n",
       "\n",
       "    MONTHLY_EXPENSE_ON_DOCTORS_PHYSIOTHERAPISTS_FEE  \\\n",
       "0                                               0.0   \n",
       "1                                               0.0   \n",
       "3                                               0.0   \n",
       "4                                               0.0   \n",
       "5                                             600.0   \n",
       "..                                              ...   \n",
       "94                                              0.0   \n",
       "95                                              0.0   \n",
       "97                                              0.0   \n",
       "98                                              0.0   \n",
       "99                                              0.0   \n",
       "\n",
       "    MONTHLY_EXPENSE_ON_MEDICAL_TESTS  MONTHLY_EXPENSE_ON_HYGIENE_PRODUCTS  \\\n",
       "0                              820.0                                360.0   \n",
       "1                                0.0                                  0.0   \n",
       "3                                0.0                                385.0   \n",
       "4                                0.0                                  0.0   \n",
       "5                              300.0                                360.0   \n",
       "..                               ...                                  ...   \n",
       "94                               0.0                                  0.0   \n",
       "95                               0.0                                 50.0   \n",
       "97                               0.0                                  0.0   \n",
       "98                               0.0                                  0.0   \n",
       "99                               0.0                                300.0   \n",
       "\n",
       "    MONTHLY_EXPENSE_ON_EMI_FOR_HOUSE  MONTHLY_EXPENSE_ON_EMI_FOR_VEHICLES  \\\n",
       "0                                0.0                                  0.0   \n",
       "1                                0.0                                  0.0   \n",
       "3                                0.0                               2200.0   \n",
       "4                                0.0                                  0.0   \n",
       "5                             5100.0                               2000.0   \n",
       "..                               ...                                  ...   \n",
       "94                               0.0                                  0.0   \n",
       "95                            5100.0                                  0.0   \n",
       "97                            6100.0                                  0.0   \n",
       "98                            4200.0                                  0.0   \n",
       "99                            2900.0                                  0.0   \n",
       "\n",
       "    MONTHLY_EXPENSE_ON_OTHER_EMIS  MONTHLY_EXPENSE_ON_DOMESTIC_HELP  \\\n",
       "0                             0.0                               0.0   \n",
       "1                             0.0                               0.0   \n",
       "3                             0.0                               0.0   \n",
       "4                             0.0                               0.0   \n",
       "5                          1400.0                               0.0   \n",
       "..                            ...                               ...   \n",
       "94                            0.0                               0.0   \n",
       "95                         1300.0                               0.0   \n",
       "97                         3000.0                               0.0   \n",
       "98                         1600.0                               0.0   \n",
       "99                         1400.0                               0.0   \n",
       "\n",
       "    MONTHLY_EXPENSE_ON_POCKET_MONEY  MONTHLY_EXPENSE_ON_PETS  \n",
       "0                               0.0                      0.0  \n",
       "1                             285.0                      0.0  \n",
       "3                            1400.0                      0.0  \n",
       "4                               0.0                   2500.0  \n",
       "5                             810.0                    480.0  \n",
       "..                              ...                      ...  \n",
       "94                            500.0                    580.0  \n",
       "95                            100.0                      0.0  \n",
       "97                            638.0                      0.0  \n",
       "98                            100.0                    580.0  \n",
       "99                            350.0                      0.0  \n",
       "\n",
       "[65 rows x 65 columns]"
      ]
     },
     "execution_count": 3,
     "metadata": {},
     "output_type": "execute_result"
    }
   ],
   "source": [
    "dataset = pandas.read_csv('data.csv')\n",
    "# remove rows with missing values\n",
    "dataset = dataset.dropna()\n",
    "dataset"
   ]
  },
  {
   "cell_type": "code",
   "execution_count": 4,
   "metadata": {},
   "outputs": [
    {
     "name": "stdout",
     "output_type": "stream",
     "text": [
      "35918\n"
     ]
    }
   ],
   "source": [
    "# What is the sum of monthly expenses on Cosmetics and Toiletries in Urban households?\n",
    "q6 = int(dataset.loc[dataset['REGION_TYPE'] == \"URBAN\", [\"MONTHLY_EXPENSE_ON_COSMETIC_AND_TOILETRIES\"]].sum().iloc[0])\n",
    "print(q6)"
   ]
  },
  {
   "cell_type": "code",
   "execution_count": 5,
   "metadata": {},
   "outputs": [
    {
     "name": "stdout",
     "output_type": "stream",
     "text": [
      "9866\n"
     ]
    }
   ],
   "source": [
    "# What is the Average monthly expense on food in Rural Gender Balanced households put together? (Including Food, Edible Oils, Vegetables and Wet Spices, Fruits, Milk and Milk Products, Salty Snacks, Health Supplements, Tea, Coffee, and Bottled Water)\n",
    "q7 = int(dataset.loc[dataset['REGION_TYPE'] == \"RURAL\", [\"MONTHLY_EXPENSE_ON_FOOD\", \"MONTHLY_EXPENSE_ON_EDIBLE_OILS\", \"MONTHLY_EXPENSE_ON_VEGETABLES_AND_WET_SPICES\", \"MONTHLY_EXPENSE_ON_FRUITS\", \"MONTHLY_EXPENSE_ON_MILK_AND_MILK_PRODUCTS\", \"MONTHLY_EXPENSE_ON_SALTY_SNACKS\", \"MONTHLY_EXPENSE_ON_HEALTH_SUPPLEMENTS\", \"MONTHLY_EXPENSE_ON_TEA\", \"MONTHLY_EXPENSE_ON_COFFEE\", \"MONTHLY_EXPENSE_ON_BOTTLED_WATER\"]].loc[dataset[\"GENDER_GROUP\"] == \"Balanced\"].mean().sum())\n",
    "print(q7)"
   ]
  },
  {
   "cell_type": "code",
   "execution_count": 6,
   "metadata": {},
   "outputs": [
    {
     "name": "stdout",
     "output_type": "stream",
     "text": [
      "12565\n"
     ]
    }
   ],
   "source": [
    "# What is the total expenditure on intoxicants, cigarettes, and tobacco in Urban Youngsters dominant households?\n",
    "q8 = int(dataset.loc[dataset[\"REGION_TYPE\"] == \"URBAN\", [\"MONTHLY_EXPENSE_ON_INTOXICANTS\", \"MONTHLY_EXPENSE_ON_CIGARETTES_AND_TOBACCO\"]].loc[dataset[\"AGE_GROUP\"] == \"Youngsters - dominant\"].sum().sum())\n",
    "print(q8)"
   ]
  },
  {
   "cell_type": "code",
   "execution_count": 7,
   "metadata": {},
   "outputs": [
    {
     "name": "stdout",
     "output_type": "stream",
     "text": [
      "9\n"
     ]
    }
   ],
   "source": [
    "# How many Rural households spend more than the average expenditure of Urban households?\n",
    "avg = dataset.loc[dataset[\"REGION_TYPE\"] == \"URBAN\", [\"TOTAL_EXPENDITURE\"]].mean().iloc[0]\n",
    "q9 = int(dataset.loc[dataset[\"REGION_TYPE\"] == \"RURAL\", [\"TOTAL_EXPENDITURE\"]].where(dataset[\"TOTAL_EXPENDITURE\"] > avg).count().iloc[0])\n",
    "print(q9)"
   ]
  },
  {
   "cell_type": "code",
   "execution_count": 8,
   "metadata": {},
   "outputs": [
    {
     "name": "stdout",
     "output_type": "stream",
     "text": [
      "14.64\n"
     ]
    }
   ],
   "source": [
    "# What is the difference in total expenditure (expressed in percentage) on eating at restaurants between Rural and Urban households?\n",
    "urban = dataset.loc[dataset[\"REGION_TYPE\"] == \"URBAN\", [\"MONTHLY_EXPENSE_ON_RESTAURANTS\"]].sum().iloc[0]\n",
    "rural = dataset.loc[dataset[\"REGION_TYPE\"] == \"RURAL\", [\"MONTHLY_EXPENSE_ON_RESTAURANTS\"]].sum().iloc[0]\n",
    "q10 = f\"{(((urban - rural) / urban) * 100):.2f}\"\n",
    "print(q10)"
   ]
  },
  {
   "cell_type": "code",
   "execution_count": 9,
   "metadata": {},
   "outputs": [
    {
     "name": "stdout",
     "output_type": "stream",
     "text": [
      "40.0\n"
     ]
    }
   ],
   "source": [
    "# What percentage of the sample population are from Rural areas?\n",
    "q1 = dataset.loc[dataset[\"REGION_TYPE\"] == \"RURAL\"].shape[0] / dataset.shape[0] * 100\n",
    "print(q1)"
   ]
  },
  {
   "cell_type": "code",
   "execution_count": 10,
   "metadata": {},
   "outputs": [
    {
     "data": {
      "text/plain": [
       "15"
      ]
     },
     "execution_count": 10,
     "metadata": {},
     "output_type": "execute_result"
    }
   ],
   "source": [
    "# What is the difference in the number of households having 3 members and 4 members?\n",
    "q2 = abs(int(dataset.loc[dataset[\"SIZE_GROUP\"] == \"4 Members\"].count().iloc[0]) - int(dataset.loc[dataset[\"SIZE_GROUP\"] == \"3 Members\"].count().iloc[0]))\n",
    "q2"
   ]
  },
  {
   "cell_type": "code",
   "execution_count": 11,
   "metadata": {},
   "outputs": [
    {
     "data": {
      "text/plain": [
       "34"
      ]
     },
     "execution_count": 11,
     "metadata": {},
     "output_type": "execute_result"
    }
   ],
   "source": [
    "# What many households in the sample data can be assumed to have pets?\n",
    "q3 = int(dataset.loc[dataset[\"MONTHLY_EXPENSE_ON_PETS\"] > 0].count().iloc[0])\n",
    "q3"
   ]
  },
  {
   "cell_type": "code",
   "execution_count": 12,
   "metadata": {},
   "outputs": [
    {
     "data": {
      "text/plain": [
       "'64.62'"
      ]
     },
     "execution_count": 12,
     "metadata": {},
     "output_type": "execute_result"
    }
   ],
   "source": [
    "# What percentage of households have more than 3 members? (exclude 3 members)\n",
    "q4 = f\"{dataset.where(dataset[\"SIZE_GROUP\"] != \"3 Members\").where(dataset[\"SIZE_GROUP\"] != \"2 Members\").where(dataset[\"SIZE_GROUP\"] != \"1 Member\").count().iloc[0] / dataset.count().iloc[0] * 100:.2f}\"\n",
    "q4"
   ]
  },
  {
   "cell_type": "code",
   "execution_count": 13,
   "metadata": {},
   "outputs": [
    {
     "data": {
      "text/plain": [
       "'38.46'"
      ]
     },
     "execution_count": 13,
     "metadata": {},
     "output_type": "execute_result"
    }
   ],
   "source": [
    "# find the percentage of “Grown-up dominant” households?\n",
    "q5 = f\"{dataset.where(dataset[\"AGE_GROUP\"] == \"Grown-up - dominant\").count().iloc[0] / dataset.count().iloc[0] * 100:.2f}\"\n",
    "q5"
   ]
  },
  {
   "cell_type": "code",
   "execution_count": 14,
   "metadata": {},
   "outputs": [],
   "source": [
    "# write a csv file with the answers called f\"{roll_number}_GA1_Dataset{dataset_number}.csv\"\n",
    "answers = [q1, q2, q3, q4, q5, q6, q7, q8, q9, q10]\n",
    "output = \"\\n\".join([f\"Q{i},{answers[i-1]}\" for i in range(1, 11)])\n",
    "dataset_number = 240 # change this to the dataset number\n",
    "import os\n",
    "roll = os.environ.get(\"IITM_ROLL_NUMBER\")\n",
    "with open(f\"{roll}_GA1_Dataset{dataset_number}.csv\", \"w\") as f:\n",
    "    f.write(output)"
   ]
  }
 ],
 "metadata": {
  "kernelspec": {
   "display_name": "iitm-mlp",
   "language": "python",
   "name": "python3"
  },
  "language_info": {
   "codemirror_mode": {
    "name": "ipython",
    "version": 3
   },
   "file_extension": ".py",
   "mimetype": "text/x-python",
   "name": "python",
   "nbconvert_exporter": "python",
   "pygments_lexer": "ipython3",
   "version": "3.12.3"
  }
 },
 "nbformat": 4,
 "nbformat_minor": 2
}
