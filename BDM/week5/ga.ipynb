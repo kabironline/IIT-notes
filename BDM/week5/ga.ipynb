{
 "cells": [
  {
   "cell_type": "code",
   "execution_count": 7,
   "metadata": {},
   "outputs": [],
   "source": [
    "import pandas as pd\n",
    "import matplotlib.pyplot as plt\n",
    "import numpy as np"
   ]
  },
  {
   "cell_type": "code",
   "execution_count": 3,
   "metadata": {},
   "outputs": [],
   "source": [
    "dataset = pd.read_csv('data.csv')\n",
    "sales = pd.read_csv('sales.csv')\n",
    "stocks_opening = pd.read_csv('stocks_opening.csv')\n",
    "stocks_transfer = pd.read_csv('stocks_transfer.csv')"
   ]
  },
  {
   "cell_type": "code",
   "execution_count": 10,
   "metadata": {},
   "outputs": [
    {
     "data": {
      "text/plain": [
       "3"
      ]
     },
     "execution_count": 10,
     "metadata": {},
     "output_type": "execute_result"
    }
   ],
   "source": [
    "df = pd.DataFrame({\"name\": ['Alfred', 'Batman', 'Catwoman'],\n",
    "                   \"toy\": [np.nan, 'Batmobile', 'Bullwhip'],\n",
    "                   \"born\": [pd.NaT, pd.Timestamp(\"1940-04-25\"),\n",
    "                            pd.NaT]})\n",
    "\n",
    "df.isna().sum().sum()"
   ]
  },
  {
   "cell_type": "code",
   "execution_count": 13,
   "metadata": {},
   "outputs": [],
   "source": [
    "df.dropna(inplace=True)"
   ]
  },
  {
   "cell_type": "code",
   "execution_count": 14,
   "metadata": {},
   "outputs": [
    {
     "data": {
      "text/plain": [
       "0"
      ]
     },
     "execution_count": 14,
     "metadata": {},
     "output_type": "execute_result"
    }
   ],
   "source": [
    "df.isna().sum().sum()"
   ]
  },
  {
   "cell_type": "code",
   "execution_count": 7,
   "metadata": {},
   "outputs": [
    {
     "name": "stdout",
     "output_type": "stream",
     "text": [
      "3836\n"
     ]
    }
   ],
   "source": [
    "# Over the 30 days of observed sales, what is the total sale value of SKU B003 ? (INT)\n",
    "total_sales_B003 = sales[sales['SKU'] == 'B003']['Sales'].sum()\n",
    "print(total_sales_B003)"
   ]
  },
  {
   "cell_type": "code",
   "execution_count": 41,
   "metadata": {},
   "outputs": [
    {
     "name": "stdout",
     "output_type": "stream",
     "text": [
      "0.215\n"
     ]
    }
   ],
   "source": [
    "# What fraction of total sale quantity (Volume) did Household category achieve in the first week? (Jan 1 to Jan 7, both days included) (3 decimal Float between 0 and 1)\n",
    "# Hint: Construct a Volume Pareto Chart\n",
    "sales['Date'] = pd.to_datetime(sales['Date'])\n",
    "\n",
    "sales_week1 = sales[sales['Date'].dt.day_of_year <= 7] \n",
    "houseold_skus = dataset[dataset['Category'] == 'Household  ']['SKU'].tolist()\n",
    "\n",
    "sales_week1_household = sales_week1[sales_week1['SKU'].isin(houseold_skus)]\n",
    "total_volume = sales_week1['Sales'].sum()\n",
    "household_volume = sales_week1_household['Sales'].sum()\n",
    "fraction = household_volume / total_volume\n",
    "print(round(fraction, 3))"
   ]
  },
  {
   "cell_type": "code",
   "execution_count": 44,
   "metadata": {},
   "outputs": [
    {
     "name": "stdout",
     "output_type": "stream",
     "text": [
      "3510000\n"
     ]
    }
   ],
   "source": [
    "# What is the maximum sale value by a single SKU in a day across all days? (Sale Value = Sale Qty * Price per Qty) (INT)\n",
    "# create a dict of SKU and price\n",
    "price_dict = dict(zip(dataset['SKU'], dataset['Price']))\n",
    "sales['total_sale'] = sales['Sales'] * sales['SKU'].map(price_dict)\n",
    "max_sale = sales['total_sale'].max()\n",
    "print(int(max_sale))"
   ]
  },
  {
   "cell_type": "code",
   "execution_count": 45,
   "metadata": {},
   "outputs": [
    {
     "data": {
      "text/plain": [
       "'Books'"
      ]
     },
     "execution_count": 45,
     "metadata": {},
     "output_type": "execute_result"
    }
   ],
   "source": [
    "# What is the least revenue generating category across all days? (STRING)\n",
    "catagory_dict = dict(zip(dataset['SKU'], dataset['Category']))\n",
    "sales['category'] = sales['SKU'].map(catagory_dict)\n",
    "sales['total_sale'].groupby(sales['category']).sum().idxmin()"
   ]
  },
  {
   "cell_type": "code",
   "execution_count": 47,
   "metadata": {},
   "outputs": [
    {
     "name": "stdout",
     "output_type": "stream",
     "text": [
      "0.344\n"
     ]
    }
   ],
   "source": [
    "# What fraction of total sale value did Mumbai achieve? (across all categories and days) (3 decimal Float between 0 and 1)\n",
    "\n",
    "total_sales = sales['total_sale'].sum()\n",
    "mumbai_sales = sales[sales['City'] == 'Mumbai']['total_sale'].sum()\n",
    "fraction = mumbai_sales / total_sales\n",
    "print(round(fraction, 3))"
   ]
  },
  {
   "cell_type": "code",
   "execution_count": 19,
   "metadata": {},
   "outputs": [
    {
     "name": "stdout",
     "output_type": "stream",
     "text": [
      "[2]\n"
     ]
    }
   ],
   "source": [
    "import numpy as np\n",
    "from sklearn.pipeline import make_pipeline\n",
    "from sklearn.preprocessing import StandardScaler\n",
    "from sklearn.svm import NuSVC\n",
    "X = np.array([[1, -1], [1, 0], [2,1]])\n",
    "y = np.array([1,2,1])\n",
    "Clf = make_pipeline (StandardScaler() , NuSVC())\n",
    "Clf . fit (X, y)\n",
    "print (Clf.predict([[1,0]]))"
   ]
  },
  {
   "cell_type": "code",
   "execution_count": 23,
   "metadata": {},
   "outputs": [
    {
     "data": {
      "text/plain": [
       "array([0.001     , 0.0011514 , 0.00132571, 0.00152642, 0.00175751,\n",
       "       0.00202359, 0.00232995, 0.0026827 , 0.00308884, 0.00355648,\n",
       "       0.00409492, 0.00471487, 0.00542868, 0.00625055, 0.00719686,\n",
       "       0.00828643, 0.00954095, 0.01098541, 0.01264855, 0.01456348,\n",
       "       0.01676833, 0.01930698, 0.02222996, 0.02559548, 0.02947052,\n",
       "       0.03393222, 0.0390694 , 0.04498433, 0.05179475, 0.05963623,\n",
       "       0.06866488, 0.07906043, 0.09102982, 0.10481131, 0.12067926,\n",
       "       0.13894955, 0.15998587, 0.184207  , 0.21209509, 0.24420531,\n",
       "       0.28117687, 0.32374575, 0.37275937, 0.42919343, 0.49417134,\n",
       "       0.5689866 , 0.65512856, 0.75431201, 0.86851137, 1.        ])"
      ]
     },
     "execution_count": 23,
     "metadata": {},
     "output_type": "execute_result"
    }
   ],
   "source": [
    "np.logspace(-3, 0)"
   ]
  }
 ],
 "metadata": {
  "kernelspec": {
   "display_name": "iitm-mlp",
   "language": "python",
   "name": "python3"
  },
  "language_info": {
   "codemirror_mode": {
    "name": "ipython",
    "version": 3
   },
   "file_extension": ".py",
   "mimetype": "text/x-python",
   "name": "python",
   "nbconvert_exporter": "python",
   "pygments_lexer": "ipython3",
   "version": "3.12.3"
  }
 },
 "nbformat": 4,
 "nbformat_minor": 2
}
