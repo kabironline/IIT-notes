{
 "cells": [
  {
   "cell_type": "code",
   "execution_count": 5,
   "metadata": {},
   "outputs": [],
   "source": [
    "import pandas as pd\n",
    "import matplotlib.pyplot as plt"
   ]
  },
  {
   "cell_type": "code",
   "execution_count": 23,
   "metadata": {},
   "outputs": [],
   "source": [
    "dataset = pd.read_csv('data.csv')\n",
    "sales = pd.read_csv('sales.csv')\n",
    "stocks_opening = pd.read_csv('stocks_opening.csv')\n",
    "stocks_transfer = pd.read_csv('stocks_transfer.csv')"
   ]
  },
  {
   "cell_type": "code",
   "execution_count": 7,
   "metadata": {},
   "outputs": [
    {
     "name": "stdout",
     "output_type": "stream",
     "text": [
      "3836\n"
     ]
    }
   ],
   "source": [
    "# Over the 30 days of observed sales, what is the total sale value of SKU B003 ? (INT)\n",
    "total_sales_B003 = sales[sales['SKU'] == 'B003']['Sales'].sum()\n",
    "print(total_sales_B003)"
   ]
  },
  {
   "cell_type": "code",
   "execution_count": 41,
   "metadata": {},
   "outputs": [
    {
     "name": "stdout",
     "output_type": "stream",
     "text": [
      "0.215\n"
     ]
    }
   ],
   "source": [
    "# What fraction of total sale quantity (Volume) did Household category achieve in the first week? (Jan 1 to Jan 7, both days included) (3 decimal Float between 0 and 1)\n",
    "# Hint: Construct a Volume Pareto Chart\n",
    "sales['Date'] = pd.to_datetime(sales['Date'])\n",
    "\n",
    "sales_week1 = sales[sales['Date'].dt.day_of_year <= 7] \n",
    "houseold_skus = dataset[dataset['Category'] == 'Household  ']['SKU'].tolist()\n",
    "\n",
    "sales_week1_household = sales_week1[sales_week1['SKU'].isin(houseold_skus)]\n",
    "total_volume = sales_week1['Sales'].sum()\n",
    "household_volume = sales_week1_household['Sales'].sum()\n",
    "fraction = household_volume / total_volume\n",
    "print(round(fraction, 3))"
   ]
  },
  {
   "cell_type": "code",
   "execution_count": 44,
   "metadata": {},
   "outputs": [
    {
     "name": "stdout",
     "output_type": "stream",
     "text": [
      "3510000\n"
     ]
    }
   ],
   "source": [
    "# What is the maximum sale value by a single SKU in a day across all days? (Sale Value = Sale Qty * Price per Qty) (INT)\n",
    "# create a dict of SKU and price\n",
    "price_dict = dict(zip(dataset['SKU'], dataset['Price']))\n",
    "sales['total_sale'] = sales['Sales'] * sales['SKU'].map(price_dict)\n",
    "max_sale = sales['total_sale'].max()\n",
    "print(int(max_sale))"
   ]
  },
  {
   "cell_type": "code",
   "execution_count": 45,
   "metadata": {},
   "outputs": [
    {
     "data": {
      "text/plain": [
       "'Books'"
      ]
     },
     "execution_count": 45,
     "metadata": {},
     "output_type": "execute_result"
    }
   ],
   "source": [
    "# What is the least revenue generating category across all days? (STRING)\n",
    "catagory_dict = dict(zip(dataset['SKU'], dataset['Category']))\n",
    "sales['category'] = sales['SKU'].map(catagory_dict)\n",
    "sales['total_sale'].groupby(sales['category']).sum().idxmin()"
   ]
  },
  {
   "cell_type": "code",
   "execution_count": 47,
   "metadata": {},
   "outputs": [
    {
     "name": "stdout",
     "output_type": "stream",
     "text": [
      "0.344\n"
     ]
    }
   ],
   "source": [
    "# What fraction of total sale value did Mumbai achieve? (across all categories and days) (3 decimal Float between 0 and 1)\n",
    "\n",
    "total_sales = sales['total_sale'].sum()\n",
    "mumbai_sales = sales[sales['City'] == 'Mumbai']['total_sale'].sum()\n",
    "fraction = mumbai_sales / total_sales\n",
    "print(round(fraction, 3))"
   ]
  }
 ],
 "metadata": {
  "kernelspec": {
   "display_name": "iitm-mlp",
   "language": "python",
   "name": "python3"
  },
  "language_info": {
   "codemirror_mode": {
    "name": "ipython",
    "version": 3
   },
   "file_extension": ".py",
   "mimetype": "text/x-python",
   "name": "python",
   "nbconvert_exporter": "python",
   "pygments_lexer": "ipython3",
   "version": "3.12.3"
  }
 },
 "nbformat": 4,
 "nbformat_minor": 2
}
