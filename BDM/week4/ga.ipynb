{
 "cells": [
  {
   "cell_type": "code",
   "execution_count": 2,
   "metadata": {},
   "outputs": [],
   "source": [
    "import pandas"
   ]
  },
  {
   "cell_type": "code",
   "execution_count": 3,
   "metadata": {},
   "outputs": [
    {
     "data": {
      "text/html": [
       "<div>\n",
       "<style scoped>\n",
       "    .dataframe tbody tr th:only-of-type {\n",
       "        vertical-align: middle;\n",
       "    }\n",
       "\n",
       "    .dataframe tbody tr th {\n",
       "        vertical-align: top;\n",
       "    }\n",
       "\n",
       "    .dataframe thead th {\n",
       "        text-align: right;\n",
       "    }\n",
       "</style>\n",
       "<table border=\"1\" class=\"dataframe\">\n",
       "  <thead>\n",
       "    <tr style=\"text-align: right;\">\n",
       "      <th></th>\n",
       "      <th>Loan Id</th>\n",
       "      <th>Quarters</th>\n",
       "      <th>Years</th>\n",
       "      <th>Segment of Loan</th>\n",
       "      <th>Lender Name</th>\n",
       "      <th>Type of Loan</th>\n",
       "      <th>Original Loan size</th>\n",
       "      <th>Outstanding loan amount</th>\n",
       "      <th>Borrower Age</th>\n",
       "      <th>Borrower Income</th>\n",
       "      <th>New to Credit (Y /N)</th>\n",
       "      <th>Gender</th>\n",
       "    </tr>\n",
       "  </thead>\n",
       "  <tbody>\n",
       "    <tr>\n",
       "      <th>0</th>\n",
       "      <td>NBFCIN000COML267</td>\n",
       "      <td>Q1</td>\n",
       "      <td>FY21</td>\n",
       "      <td>Commercial</td>\n",
       "      <td>NBFC</td>\n",
       "      <td>Commercial Loan</td>\n",
       "      <td>157313960</td>\n",
       "      <td>77893320</td>\n",
       "      <td>45</td>\n",
       "      <td>80947960</td>\n",
       "      <td>Y</td>\n",
       "      <td>F</td>\n",
       "    </tr>\n",
       "    <tr>\n",
       "      <th>1</th>\n",
       "      <td>NBFCIN000COML629</td>\n",
       "      <td>Q1</td>\n",
       "      <td>FY20</td>\n",
       "      <td>Commercial</td>\n",
       "      <td>NBFC</td>\n",
       "      <td>Commercial Loan</td>\n",
       "      <td>11024000</td>\n",
       "      <td>2809000</td>\n",
       "      <td>49</td>\n",
       "      <td>5353000</td>\n",
       "      <td>N</td>\n",
       "      <td>M</td>\n",
       "    </tr>\n",
       "    <tr>\n",
       "      <th>2</th>\n",
       "      <td>NBFCIN000COML127</td>\n",
       "      <td>Q1</td>\n",
       "      <td>FY19</td>\n",
       "      <td>Commercial</td>\n",
       "      <td>NBFC</td>\n",
       "      <td>Commercial Loan</td>\n",
       "      <td>15499320</td>\n",
       "      <td>5215180</td>\n",
       "      <td>33</td>\n",
       "      <td>7530330</td>\n",
       "      <td>N</td>\n",
       "      <td>M</td>\n",
       "    </tr>\n",
       "    <tr>\n",
       "      <th>3</th>\n",
       "      <td>NBFCIN000COML461</td>\n",
       "      <td>Q1</td>\n",
       "      <td>FY19</td>\n",
       "      <td>Commercial</td>\n",
       "      <td>NBFC</td>\n",
       "      <td>Commercial Loan</td>\n",
       "      <td>5086360</td>\n",
       "      <td>2669080</td>\n",
       "      <td>37</td>\n",
       "      <td>1907385</td>\n",
       "      <td>N</td>\n",
       "      <td>M</td>\n",
       "    </tr>\n",
       "    <tr>\n",
       "      <th>4</th>\n",
       "      <td>PVT00COM187</td>\n",
       "      <td>Q1</td>\n",
       "      <td>FY21</td>\n",
       "      <td>Commercial</td>\n",
       "      <td>PVT Bank</td>\n",
       "      <td>Commercial Loan</td>\n",
       "      <td>8080800</td>\n",
       "      <td>4273500</td>\n",
       "      <td>47</td>\n",
       "      <td>6410250</td>\n",
       "      <td>N</td>\n",
       "      <td>M</td>\n",
       "    </tr>\n",
       "    <tr>\n",
       "      <th>...</th>\n",
       "      <td>...</td>\n",
       "      <td>...</td>\n",
       "      <td>...</td>\n",
       "      <td>...</td>\n",
       "      <td>...</td>\n",
       "      <td>...</td>\n",
       "      <td>...</td>\n",
       "      <td>...</td>\n",
       "      <td>...</td>\n",
       "      <td>...</td>\n",
       "      <td>...</td>\n",
       "      <td>...</td>\n",
       "    </tr>\n",
       "    <tr>\n",
       "      <th>2235</th>\n",
       "      <td>NBFCIN489TWL7269</td>\n",
       "      <td>Q4</td>\n",
       "      <td>FY21</td>\n",
       "      <td>Retail</td>\n",
       "      <td>NBFC</td>\n",
       "      <td>Two-Wheeler Loan</td>\n",
       "      <td>68670</td>\n",
       "      <td>46431</td>\n",
       "      <td>60</td>\n",
       "      <td>1177680</td>\n",
       "      <td>N</td>\n",
       "      <td>M</td>\n",
       "    </tr>\n",
       "    <tr>\n",
       "      <th>2236</th>\n",
       "      <td>NBFCIN59TWL5562</td>\n",
       "      <td>Q4</td>\n",
       "      <td>FY21</td>\n",
       "      <td>Retail</td>\n",
       "      <td>NBFC</td>\n",
       "      <td>Two-Wheeler Loan</td>\n",
       "      <td>64050</td>\n",
       "      <td>44408</td>\n",
       "      <td>28</td>\n",
       "      <td>430540</td>\n",
       "      <td>Y</td>\n",
       "      <td>M</td>\n",
       "    </tr>\n",
       "    <tr>\n",
       "      <th>2237</th>\n",
       "      <td>NBFCIN92TWL6031</td>\n",
       "      <td>Q4</td>\n",
       "      <td>FY19</td>\n",
       "      <td>Retail</td>\n",
       "      <td>NBFC</td>\n",
       "      <td>Two-Wheeler Loan</td>\n",
       "      <td>95790</td>\n",
       "      <td>52173</td>\n",
       "      <td>52</td>\n",
       "      <td>983180</td>\n",
       "      <td>Y</td>\n",
       "      <td>F</td>\n",
       "    </tr>\n",
       "    <tr>\n",
       "      <th>2238</th>\n",
       "      <td>PVT10TWL11859</td>\n",
       "      <td>Q4</td>\n",
       "      <td>FY20</td>\n",
       "      <td>Retail</td>\n",
       "      <td>PVT Bank</td>\n",
       "      <td>Two-Wheeler Loan</td>\n",
       "      <td>91800</td>\n",
       "      <td>32130</td>\n",
       "      <td>31</td>\n",
       "      <td>758536</td>\n",
       "      <td>Y</td>\n",
       "      <td>F</td>\n",
       "    </tr>\n",
       "    <tr>\n",
       "      <th>2239</th>\n",
       "      <td>PVT299TWL1584</td>\n",
       "      <td>Q4</td>\n",
       "      <td>FY21</td>\n",
       "      <td>Retail</td>\n",
       "      <td>PVT Bank</td>\n",
       "      <td>Two-Wheeler Loan</td>\n",
       "      <td>63240</td>\n",
       "      <td>21501</td>\n",
       "      <td>49</td>\n",
       "      <td>701360</td>\n",
       "      <td>N</td>\n",
       "      <td>M</td>\n",
       "    </tr>\n",
       "  </tbody>\n",
       "</table>\n",
       "<p>2240 rows × 12 columns</p>\n",
       "</div>"
      ],
      "text/plain": [
       "               Loan Id Quarters Years Segment of Loan Lender Name  \\\n",
       "0     NBFCIN000COML267       Q1  FY21      Commercial        NBFC   \n",
       "1     NBFCIN000COML629       Q1  FY20      Commercial        NBFC   \n",
       "2     NBFCIN000COML127       Q1  FY19      Commercial        NBFC   \n",
       "3     NBFCIN000COML461       Q1  FY19      Commercial        NBFC   \n",
       "4          PVT00COM187       Q1  FY21      Commercial    PVT Bank   \n",
       "...                ...      ...   ...             ...         ...   \n",
       "2235  NBFCIN489TWL7269       Q4  FY21          Retail        NBFC   \n",
       "2236   NBFCIN59TWL5562       Q4  FY21          Retail        NBFC   \n",
       "2237   NBFCIN92TWL6031       Q4  FY19          Retail        NBFC   \n",
       "2238     PVT10TWL11859       Q4  FY20          Retail    PVT Bank   \n",
       "2239     PVT299TWL1584       Q4  FY21          Retail    PVT Bank   \n",
       "\n",
       "          Type of Loan  Original Loan size  Outstanding loan amount  \\\n",
       "0      Commercial Loan           157313960                 77893320   \n",
       "1      Commercial Loan            11024000                  2809000   \n",
       "2      Commercial Loan            15499320                  5215180   \n",
       "3      Commercial Loan             5086360                  2669080   \n",
       "4      Commercial Loan             8080800                  4273500   \n",
       "...                ...                 ...                      ...   \n",
       "2235  Two-Wheeler Loan               68670                    46431   \n",
       "2236  Two-Wheeler Loan               64050                    44408   \n",
       "2237  Two-Wheeler Loan               95790                    52173   \n",
       "2238  Two-Wheeler Loan               91800                    32130   \n",
       "2239  Two-Wheeler Loan               63240                    21501   \n",
       "\n",
       "      Borrower Age  Borrower Income New to Credit (Y /N) Gender  \n",
       "0               45         80947960                    Y      F  \n",
       "1               49          5353000                    N      M  \n",
       "2               33          7530330                    N      M  \n",
       "3               37          1907385                    N      M  \n",
       "4               47          6410250                    N      M  \n",
       "...            ...              ...                  ...    ...  \n",
       "2235            60          1177680                    N      M  \n",
       "2236            28           430540                    Y      M  \n",
       "2237            52           983180                    Y      F  \n",
       "2238            31           758536                    Y      F  \n",
       "2239            49           701360                    N      M  \n",
       "\n",
       "[2240 rows x 12 columns]"
      ]
     },
     "execution_count": 3,
     "metadata": {},
     "output_type": "execute_result"
    }
   ],
   "source": [
    "dataset = pandas.read_csv('data.csv')\n",
    "dataset"
   ]
  },
  {
   "cell_type": "code",
   "execution_count": 20,
   "metadata": {},
   "outputs": [
    {
     "data": {
      "text/plain": [
       "0.37"
      ]
     },
     "execution_count": 20,
     "metadata": {},
     "output_type": "execute_result"
    }
   ],
   "source": [
    "# In FY20, what percentage of the market share of total loans are serviced by NBFCs?\n",
    "total_loans = dataset.loc[dataset['Years'] == 'FY20', ['Lender Name']].value_counts()\n",
    "nbfc_loans = total_loans['NBFC']\n",
    "q1 = nbfc_loans / total_loans.sum()\n",
    "q1 = round(q1, 2)\n",
    "q1"
   ]
  },
  {
   "cell_type": "code",
   "execution_count": 32,
   "metadata": {},
   "outputs": [
    {
     "data": {
      "text/plain": [
       "3.38"
      ]
     },
     "execution_count": 32,
     "metadata": {},
     "output_type": "execute_result"
    }
   ],
   "source": [
    "# What is the ratio of Retail loan value given by private bank to that of PSU bank in FY21?\n",
    "retail_loans = dataset.loc[(dataset['Years'] == 'FY21') & (dataset['Segment of Loan'] == 'Retail'), ['Lender Name']].value_counts()\n",
    "q2 = retail_loans['PVT Bank'] / retail_loans['PSU Bank']\n",
    "q2 = round(q2, 2)\n",
    "q2"
   ]
  },
  {
   "cell_type": "code",
   "execution_count": 44,
   "metadata": {},
   "outputs": [
    {
     "data": {
      "text/plain": [
       "61.4"
      ]
     },
     "execution_count": 44,
     "metadata": {},
     "output_type": "execute_result"
    }
   ],
   "source": [
    "# What is the growth percentage between FY19-20 in servicing commercial loans by Private banks (in terms of loan value)?\n",
    "commercial_loans = dataset.loc[(dataset['Segment of Loan'] == 'Commercial') & (dataset['Years'].isin(['FY19', 'FY20'])), ['Lender Name', 'Original Loan size']]\n",
    "private_bank_loans = commercial_loans.loc[commercial_loans['Lender Name'] == 'PVT Bank', 'Original Loan size']\n",
    "q3 = ((private_bank_loans.iloc[1] - private_bank_loans.iloc[0]) / private_bank_loans.iloc[0]) * 100\n",
    "q3 = abs(round(q3, 2))\n",
    "q3"
   ]
  },
  {
   "cell_type": "code",
   "execution_count": 67,
   "metadata": {},
   "outputs": [
    {
     "data": {
      "text/plain": [
       "1558"
      ]
     },
     "execution_count": 67,
     "metadata": {},
     "output_type": "execute_result"
    }
   ],
   "source": [
    "# What is the difference in the average microfinance loan taken from NBFCs between FY20 and FY21?\n",
    "microfinance_loans = dataset.loc[dataset['Segment of Loan'] == 'Microfinance', ['Years', 'Lender Name', 'Original Loan size']]\n",
    "microfinance_loans = microfinance_loans.groupby(['Years', 'Lender Name']).mean()\n",
    "q4 = microfinance_loans.loc['FY21'] - microfinance_loans.loc['FY20']\n",
    "q4 = abs(int(q4.iloc[0].values[0]))\n",
    "q4"
   ]
  },
  {
   "cell_type": "code",
   "execution_count": 72,
   "metadata": {},
   "outputs": [
    {
     "data": {
      "text/plain": [
       "32128"
      ]
     },
     "execution_count": 72,
     "metadata": {},
     "output_type": "execute_result"
    }
   ],
   "source": [
    "# What is the average credit card borrowings of Males in FY20?\n",
    "credit_card_loans = dataset.loc[(dataset['Type of Loan'] == 'Credit Card') & (dataset['Years'] == 'FY20') & (dataset['Gender'] == \"M\"), ['Original Loan size']].mean()\n",
    "q5 = int(credit_card_loans.values[0])\n",
    "q5"
   ]
  },
  {
   "cell_type": "code",
   "execution_count": 76,
   "metadata": {},
   "outputs": [
    {
     "data": {
      "text/plain": [
       "0.51"
      ]
     },
     "execution_count": 76,
     "metadata": {},
     "output_type": "execute_result"
    }
   ],
   "source": [
    "# What is the percentage difference in no. of credit card transactions between males and females across all years?\n",
    "credit_card_transactions = dataset.loc[dataset['Type of Loan'] == 'Credit Card', [\"Gender\"]].value_counts()\n",
    "q6 = abs((credit_card_transactions['M'] - credit_card_transactions['F']) / credit_card_transactions.sum())\n",
    "q6 = round(q6, 2)\n",
    "q6"
   ]
  },
  {
   "cell_type": "code",
   "execution_count": 78,
   "metadata": {},
   "outputs": [
    {
     "data": {
      "text/plain": [
       "0.51"
      ]
     },
     "execution_count": 78,
     "metadata": {},
     "output_type": "execute_result"
    }
   ],
   "source": [
    "# What is the percentage of new borrowers in RETAIL category in FY21 as compared to FY20?\n",
    "retail_loans = dataset.loc[(dataset['Segment of Loan'] == 'Retail') & (dataset['Years'].isin(['FY20', 'FY21'])), ['Years']].value_counts()\n",
    "q7 = retail_loans['FY21'] / retail_loans.sum()\n",
    "q7 = round(q7, 2)\n",
    "q7"
   ]
  },
  {
   "cell_type": "code",
   "execution_count": 92,
   "metadata": {},
   "outputs": [
    {
     "data": {
      "text/plain": [
       "'PVT Bank'"
      ]
     },
     "execution_count": 92,
     "metadata": {},
     "output_type": "execute_result"
    }
   ],
   "source": [
    "# Who is the lender who gave out the highest average commercial loans to Women in FY19 (in terms of loan value)?\n",
    "commercial_loans = dataset.loc[(dataset['Segment of Loan'] == 'Commercial') & (dataset['Years'] == 'FY19') & (dataset['Gender'] == \"F\"), ['Lender Name', 'Original Loan size']].groupby('Lender Name').mean()\n",
    "q8 = commercial_loans.idxmax().values[0]\n",
    "q8"
   ]
  },
  {
   "cell_type": "code",
   "execution_count": 95,
   "metadata": {},
   "outputs": [],
   "source": [
    "answers = [q1, q2, q3, q4, q5, q6, q7, q8]\n",
    "output = \"\\n\".join([f\"Q{i},{answers[i-1]}\" for i in range(1, len(answers)+1)])\n",
    "dataset_number = 240 # change this to the dataset number\n",
    "import os\n",
    "roll = os.environ.get(\"IITM_ROLL_NUMBER\")\n",
    "with open(f\"{roll}_GA1_Dataset{dataset_number}.csv\", \"w\") as f:\n",
    "    f.write(output)"
   ]
  }
 ],
 "metadata": {
  "kernelspec": {
   "display_name": "iitm-mlp",
   "language": "python",
   "name": "python3"
  },
  "language_info": {
   "codemirror_mode": {
    "name": "ipython",
    "version": 3
   },
   "file_extension": ".py",
   "mimetype": "text/x-python",
   "name": "python",
   "nbconvert_exporter": "python",
   "pygments_lexer": "ipython3",
   "version": "3.12.3"
  }
 },
 "nbformat": 4,
 "nbformat_minor": 2
}
