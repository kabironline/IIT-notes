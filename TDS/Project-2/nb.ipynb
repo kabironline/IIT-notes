{
 "cells": [
  {
   "cell_type": "markdown",
   "metadata": {},
   "source": []
  },
  {
   "cell_type": "code",
   "execution_count": 21,
   "metadata": {},
   "outputs": [],
   "source": [
    "# imports for csv \n",
    "# %pip install textblob\n",
    "import csv\n",
    "import os\n"
   ]
  },
  {
   "cell_type": "code",
   "execution_count": 22,
   "metadata": {},
   "outputs": [],
   "source": [
    "# Opening the four CSV files [\"books\", \"book_tags\", \"ratings\", \"toread\"]\n",
    "\n",
    "books = []\n",
    "book_tags = []\n",
    "ratings = []\n",
    "toread = []\n",
    "\n",
    "with open('books.csv', encoding=\"utf-8\") as file:\n",
    "    reader = csv.reader(file)\n",
    "    for row in reader:\n",
    "        books.append(row)\n",
    "\n",
    "with open('book_tags.csv', encoding=\"utf-8\") as file:\n",
    "    reader = csv.reader(file)\n",
    "    for row in reader:\n",
    "        book_tags.append(row)\n",
    "\n",
    "with open('ratings.csv', encoding=\"utf-8\") as file:\n",
    "    reader = csv.reader(file)\n",
    "    for row in reader:\n",
    "        ratings.append(row)\n",
    "\n",
    "with open('toread.csv', encoding=\"utf-8\") as file:\n",
    "    reader = csv.reader(file)\n",
    "    for row in reader:\n",
    "        toread.append(row)\n",
    "\n",
    "books = books[1:]\n",
    "book_tags = book_tags[1:]\n",
    "ratings = ratings[1:]\n",
    "toread = toread[1:]"
   ]
  },
  {
   "cell_type": "code",
   "execution_count": 37,
   "metadata": {},
   "outputs": [
    {
     "data": {
      "text/plain": [
       "72"
      ]
     },
     "execution_count": 37,
     "metadata": {},
     "output_type": "execute_result"
    }
   ],
   "source": [
    "# Q1 - How many books do not have an original title [books.csv]?\n",
    "\n",
    "def no_original_title():\n",
    "  count = 0\n",
    "  for book in books:\n",
    "    if book[9] == '' or book[9] == None:\n",
    "      count += 1\n",
    "  return count - 1 \n",
    "\n",
    "no_original_title()"
   ]
  },
  {
   "cell_type": "code",
   "execution_count": 20,
   "metadata": {},
   "outputs": [
    {
     "data": {
      "text/plain": [
       "1643"
      ]
     },
     "execution_count": 20,
     "metadata": {},
     "output_type": "execute_result"
    }
   ],
   "source": [
    "# Q2 - How many unique books are present in the dataset ? Evaluate using the book_id column in the books.csv file.\n",
    "\n",
    "def unique_books():\n",
    "  unique_books = set()\n",
    "  for book in books:\n",
    "    unique_books.add(book[0])\n",
    "  return len(unique_books)\n",
    "\n",
    "unique_books()"
   ]
  },
  {
   "cell_type": "code",
   "execution_count": 8,
   "metadata": {},
   "outputs": [
    {
     "data": {
      "text/plain": [
       "53256"
      ]
     },
     "execution_count": 8,
     "metadata": {},
     "output_type": "execute_result"
    }
   ],
   "source": [
    "# Q3 - How many unique users are present in the dataset ? Evaluate using the user_id column in the ratings.csv file.\n",
    "\n",
    "def unique_users():\n",
    "  unique_users = set()\n",
    "  for rating in ratings:\n",
    "    unique_users.add(rating[0])\n",
    "  return len(unique_users)\n",
    "\n",
    "unique_users()"
   ]
  },
  {
   "cell_type": "code",
   "execution_count": 12,
   "metadata": {},
   "outputs": [
    {
     "data": {
      "text/plain": [
       "\"Harry Potter and the Sorcerer's Stone (Harry Potter, #1)                                                                                             \""
      ]
     },
     "execution_count": 12,
     "metadata": {},
     "output_type": "execute_result"
    }
   ],
   "source": [
    "# Q4 - Which book (title) has the maximum number of ratings based on work_ratings_count column in the books.csv file?\n",
    "\n",
    "def max_ratings():\n",
    "  max_ratings = 0\n",
    "  max_book = ''\n",
    "  for book in books:\n",
    "    if int(book[14]) > max_ratings:\n",
    "      max_ratings = int(book[14])\n",
    "      max_book = book[10]\n",
    "  return max_book\n",
    "\n",
    "max_ratings()"
   ]
  },
  {
   "cell_type": "code",
   "execution_count": 35,
   "metadata": {},
   "outputs": [
    {
     "data": {
      "text/plain": [
       "['30574', '5444']"
      ]
     },
     "execution_count": 35,
     "metadata": {},
     "output_type": "execute_result"
    }
   ],
   "source": [
    "# Q5 - Which (tag_id) is the most frequently used ie. mapped with the highest number of books [book_tags.csv] ? (In case of more than one tag, mention the tag id with the least numerical value)\n",
    "\n",
    "def most_frequent_tag():\n",
    "  tag_count = {}\n",
    "  for tag in book_tags:\n",
    "    if tag[1] in tag_count:\n",
    "      tag_count[tag[1]] += 1\n",
    "    else:\n",
    "      tag_count[tag[1]] = 1\n",
    "  max_tag = sorted(tag_count.items(), key=lambda x: (-x[1], x[0]))\n",
    "  # getting all the tags with the maximum count\n",
    "  max_tag = [tag for tag in max_tag if tag[1] == max_tag[0][1]]\n",
    "  max_tag = [tag[0] for tag in max_tag]\n",
    "  return max_tag\n",
    "\n",
    "most_frequent_tag()"
   ]
  },
  {
   "cell_type": "code",
   "execution_count": 28,
   "metadata": {},
   "outputs": [
    {
     "data": {
      "text/plain": [
       "\"Harry Potter and the Sorcerer's Stone (Harry Potter, #1)\""
      ]
     },
     "execution_count": 28,
     "metadata": {},
     "output_type": "execute_result"
    }
   ],
   "source": [
    "# Q6 - Which book (title) has the most number of counts of tags given by the user ? [book_tags.csv, books.csv]\n",
    "\n",
    "def most_tags():\n",
    "  tag_count = {}\n",
    "  for tag in book_tags:\n",
    "    if tag[0] in tag_count:\n",
    "      tag_count[tag[0]] += int(tag[2])\n",
    "    else:\n",
    "      tag_count[tag[0]] = int(tag[2])\n",
    "  max_tag = max(tag_count, key=tag_count.get)\n",
    "  for book in books:\n",
    "    if book[1] == max_tag:\n",
    "      return book[10]\n",
    "    \n",
    "most_tags()"
   ]
  },
  {
   "cell_type": "code",
   "execution_count": 10,
   "metadata": {},
   "outputs": [],
   "source": [
    "# Q7 - Which book (good_book_id) is marked as to-read by most number of users ? [toread.csv, books.csv]\n",
    "\n",
    "def most_toread():\n",
    "  toread_count = {}\n",
    "  for book in toread:\n",
    "    if book[1] in toread_count:\n",
    "      toread_count[book[1]] += 1\n",
    "    else:\n",
    "      toread_count[book[1]] = 1\n",
    "  max_toread = max(toread_count, key=toread_count.get)\n",
    "  for book in books:\n",
    "    if book[0] == max_toread:\n",
    "      return book[1]\n",
    "    \n",
    "most_toread()"
   ]
  },
  {
   "cell_type": "code",
   "execution_count": 14,
   "metadata": {},
   "outputs": [
    {
     "data": {
      "text/plain": [
       "'5858'"
      ]
     },
     "execution_count": 14,
     "metadata": {},
     "output_type": "execute_result"
    }
   ],
   "source": [
    "# Q8 - Which is the least used i.e. mapped with the lowest number of books [book_tags.csv] ? (In case of more than one tag, mention the tag id with the least numerical value)\n",
    "\n",
    "def least_used_tag():\n",
    "  tag_count = {}\n",
    "  for tag in book_tags:\n",
    "    if tag[1] in tag_count:\n",
    "      tag_count[tag[1]] += 1\n",
    "    else:\n",
    "      tag_count[tag[1]] = 1\n",
    "  min_tag = min(tag_count, key=tag_count.get)\n",
    "  return min_tag\n",
    "\n",
    "least_used_tag()"
   ]
  },
  {
   "cell_type": "code",
   "execution_count": 16,
   "metadata": {},
   "outputs": [
    {
     "data": {
      "text/plain": [
       "'One Night at the Call Center                                                                                                                           '"
      ]
     },
     "execution_count": 16,
     "metadata": {},
     "output_type": "execute_result"
    }
   ],
   "source": [
    "# Q9 - Which book (title) has the minimum (average_rating) [books.csvl, if more than 1 book have same average rating, sort the books by [title'] in \n",
    "# alphabetical order and use the first book in the sorted list? (S)\n",
    "\n",
    "def min_avg_rating():\n",
    "  min_rating = 5\n",
    "  min_book = ''\n",
    "  for book in books:\n",
    "    if float(book[12]) < min_rating:\n",
    "      min_rating = float(book[12])\n",
    "      min_book = book[10]\n",
    "  return min_book\n",
    "\n",
    "min_avg_rating()"
   ]
  },
  {
   "cell_type": "code",
   "execution_count": 15,
   "metadata": {},
   "outputs": [
    {
     "data": {
      "text/plain": [
       "'1'"
      ]
     },
     "execution_count": 15,
     "metadata": {},
     "output_type": "execute_result"
    }
   ],
   "source": [
    "# Q10 - Which book (goodreads_book_id) has the least number of count of tags given by the user ie. the book with minimum user records including tags [book—tags.csv] ? (N)\n",
    "\n",
    "def least_tags():\n",
    "  tag_count = {}\n",
    "  for tag in book_tags:\n",
    "    if tag[0] in tag_count:\n",
    "      tag_count[tag[0]] += 1\n",
    "    else:\n",
    "      tag_count[tag[0]] = 1\n",
    "  min_tag = min(tag_count, key=tag_count.get)\n",
    "  return min_tag\n",
    "\n",
    "least_tags()"
   ]
  },
  {
   "cell_type": "code",
   "execution_count": 19,
   "metadata": {},
   "outputs": [
    {
     "data": {
      "text/plain": [
       "11295"
      ]
     },
     "execution_count": 19,
     "metadata": {},
     "output_type": "execute_result"
    }
   ],
   "source": [
    "# Q11 - How many unique tags are there in the dataset [book_tags.csv] ? (N)\n",
    "\n",
    "def unique_tags():\n",
    "  unique_tags = set()\n",
    "  for tag in book_tags:\n",
    "    unique_tags.add(tag[1])\n",
    "  return len(unique_tags)\n",
    "\n",
    "unique_tags()"
   ]
  },
  {
   "cell_type": "code",
   "execution_count": 17,
   "metadata": {},
   "outputs": [
    {
     "data": {
      "text/plain": [
       "3.9657334144856935"
      ]
     },
     "execution_count": 17,
     "metadata": {},
     "output_type": "execute_result"
    }
   ],
   "source": [
    "# Q12 - What is the mean value of rating of all the books in the dataset based on (average_rating) [books.csv] ? (F)\n",
    "\n",
    "def mean_rating():\n",
    "  total_rating = 0\n",
    "  for book in books:\n",
    "    total_rating += float(book[12])\n",
    "  return total_rating / len(books)\n",
    "\n",
    "mean_rating()"
   ]
  },
  {
   "cell_type": "code",
   "execution_count": 29,
   "metadata": {},
   "outputs": [
    {
     "data": {
      "text/plain": [
       "1428"
      ]
     },
     "execution_count": 29,
     "metadata": {},
     "output_type": "execute_result"
    }
   ],
   "source": [
    "# Q14 - Predict sentiment using TextBlob. How many positive titles (original_title) are there in the dataset [books.csv] ? (N)\n",
    "\n",
    "from textblob import TextBlob\n",
    "\n",
    "def positive_titles():\n",
    "  positive_titles = 0\n",
    "  for book in books:\n",
    "    if book[9] == 'null' or book[9] == '':\n",
    "      continue\n",
    "    blob = TextBlob(book[9])\n",
    "    if blob.sentiment.polarity >= 0:\n",
    "      positive_titles += 1\n",
    "  return positive_titles\n",
    "\n",
    "positive_titles()\n"
   ]
  }
 ],
 "metadata": {
  "kernelspec": {
   "display_name": "Python 3",
   "language": "python",
   "name": "python3"
  },
  "language_info": {
   "codemirror_mode": {
    "name": "ipython",
    "version": 3
   },
   "file_extension": ".py",
   "mimetype": "text/x-python",
   "name": "python",
   "nbconvert_exporter": "python",
   "pygments_lexer": "ipython3",
   "version": "3.12.2"
  }
 },
 "nbformat": 4,
 "nbformat_minor": 2
}
