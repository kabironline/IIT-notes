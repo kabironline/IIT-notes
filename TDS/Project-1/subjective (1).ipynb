{
 "cells": [
  {
   "cell_type": "code",
   "execution_count": 39,
   "metadata": {},
   "outputs": [
    {
     "data": {
      "text/plain": [
       "162"
      ]
     },
     "execution_count": 39,
     "metadata": {},
     "output_type": "execute_result"
    }
   ],
   "source": [
    "# Change it to your respective dataset\n",
    "dataset = open('./assembly_dataset1.csv', 'r')\n",
    "dataset.readline()\n",
    "\n",
    "# Change the condition\n",
    "condition={'st':\"Uttar Pradesh\",\"ac\":\"KHERAGARH\"}\n",
    "\n",
    "content=dataset.readlines()\n",
    "content1=[]\n",
    "for i in content:\n",
    "\n",
    "    s=i.split(\",\")\n",
    "    if s[0]==condition[\"st\"] and s[4]==condition[\"ac\"]:\n",
    "        content1.append(s)\n",
    "len(content1)"
   ]
  },
  {
   "cell_type": "code",
   "execution_count": 19,
   "metadata": {},
   "outputs": [
    {
     "data": {
      "text/plain": [
       "{'1951': 0,\n",
       " '1962': 0,\n",
       " '1967': 0,\n",
       " '1969': 0,\n",
       " '1974': 0,\n",
       " '1977': 0,\n",
       " '1980': 3,\n",
       " '1985': 0,\n",
       " '1989': 0,\n",
       " '1991': 0,\n",
       " '1993': 1,\n",
       " '1996': 0,\n",
       " '2002': 0,\n",
       " '2007': 0,\n",
       " '2012': 2}"
      ]
     },
     "execution_count": 19,
     "metadata": {},
     "output_type": "execute_result"
    }
   ],
   "source": [
    "# Q2,Find highest number of female candidates participating in an election year. 0 if no female candidate.[N]\n",
    "# Q3: In which year (earliest , if multiple years) did the highest number of female candidates contest?[N]\n",
    "\n",
    "def countfemaleCandidates(year):\n",
    "    ctr=0\n",
    "    for i in content1:\n",
    "        if i[1]==year and i[7]==\"F\":\n",
    "            ctr+=1\n",
    "    return ctr\n",
    "femaleCandidatesCountYearWise={}\n",
    "for i in content1:\n",
    "    if i[1] not in femaleCandidatesCountYearWise.keys():\n",
    "        femaleCandidatesCountYearWise[i[1]]=countfemaleCandidates(i[1])\n",
    "femaleCandidatesCountYearWise\n",
    "            "
   ]
  },
  {
   "cell_type": "code",
   "execution_count": 20,
   "metadata": {},
   "outputs": [
    {
     "name": "stdout",
     "output_type": "stream",
     "text": [
      "{'1951': 13373, '1962': 22208, '1967': 25562, '1969': 32088, '1974': 34530, '1977': 27307, '1980': 33388, '1985': 47092, '1989': 55839, '1991': 35756, '1993': 36863, '1996': 30473, '2002': 34630, '2007': 46829, '2012': 69533}\n",
      "{'1951': 8299, '1962': 13288, '1967': 14122, '1969': 22435, '1974': 27072, '1977': 16390, '1980': 27594, '1985': 24173, '1989': 29761, '1991': 34783, '1993': 32492, '1996': 29280, '2002': 27523, '2007': 33609, '2012': 62427}\n",
      "{'1951': 30750, '1962': 50936, '1967': 54584, '1969': 57544, '1974': 68882, '1977': 58719, '1980': 73292, '1985': 78859, '1989': 91000, '1991': 90542, '1993': 115319, '1996': 86794, '2002': 122280, '2007': 126393, '2012': 191218}\n",
      "1985 0.290632648144156\n"
     ]
    }
   ],
   "source": [
    "# Q5: In which year did a winning candidate beat the runner-up in this constituency by the highest margin percentage?[N]\n",
    "# Q4: What is the highest margin percentage a winning candidate has beaten the runner-up in any election within this constituency?[F]\n",
    "\n",
    "highest_votes_in_year = {}\n",
    "second_highest_votes_in_year = {}\n",
    "total_votes_in_year={}\n",
    "# votes is in the 11th column \n",
    "for row in content1:\n",
    "  if row[1] in total_votes_in_year:\n",
    "    total_votes_in_year[row[1]]+=int(row[-1])\n",
    "  else:\n",
    "    total_votes_in_year[row[1]]=int(row[-1])\n",
    "  if row[1] in highest_votes_in_year:\n",
    "    if row[11] == '':\n",
    "      continue\n",
    "    if int(row[11]) > highest_votes_in_year[row[1]]:\n",
    "      second_highest_votes_in_year[row[1]] = highest_votes_in_year[row[1]]\n",
    "      highest_votes_in_year[row[1]] = int(row[11])\n",
    "    elif int(row[11]) > second_highest_votes_in_year[row[1]]:\n",
    "      second_highest_votes_in_year[row[1]] = int(row[11])\n",
    "  else:\n",
    "    highest_votes_in_year[row[1]] = int(row[11])\n",
    "    second_highest_votes_in_year[row[1]] = 0\n",
    "\n",
    "max_margin = 0\n",
    "max_margin_year = 0\n",
    "for year in highest_votes_in_year:\n",
    "  margin = (highest_votes_in_year[year] - second_highest_votes_in_year[year]) / total_votes_in_year[year]\n",
    "  if margin > max_margin:\n",
    "    max_margin = margin\n",
    "    max_margin_year = year\n",
    "print(highest_votes_in_year)\n",
    "print(second_highest_votes_in_year)\n",
    "print(total_votes_in_year)\n",
    "print(max_margin_year, max_margin)\n",
    "\n"
   ]
  },
  {
   "cell_type": "code",
   "execution_count": 37,
   "metadata": {},
   "outputs": [
    {
     "data": {
      "text/plain": [
       "{'1951': 12883,\n",
       " '1962': 20618,\n",
       " '1967': 24882,\n",
       " '1969': 29067,\n",
       " '1974': 33632,\n",
       " '1977': 27180,\n",
       " '1980': 33200,\n",
       " '1985': 46893,\n",
       " '1989': 55661,\n",
       " '1991': 35638,\n",
       " '1993': 36839,\n",
       " '1996': 30300,\n",
       " '2002': 34513,\n",
       " '2007': 46719,\n",
       " '2012': 69244}"
      ]
     },
     "execution_count": 37,
     "metadata": {},
     "output_type": "execute_result"
    }
   ],
   "source": [
    "# Q6: What was the largest vote margin between the top and bottom candidates in this constituency?[N]\n",
    "def vote_margin(year):\n",
    "    maxVote=0\n",
    "    minVote=10000000000\n",
    "    for i in content1:\n",
    "        if i[1] == year:\n",
    "            if int(i[-1])>maxVote:\n",
    "                maxVote=int(i[-1])\n",
    "            if int(i[-1])<minVote:\n",
    "                minVote=int(i[-1])\n",
    "    return [maxVote,minVote]\n",
    "voteMargins={}\n",
    "for i in content1:\n",
    "    if i[1] not in voteMargins:\n",
    "        voteMargins[i[1]]= vote_margin(i[1])[0]-vote_margin(i[1])[1]\n",
    "\n",
    "voteMargins"
   ]
  },
  {
   "cell_type": "code",
   "execution_count": 38,
   "metadata": {},
   "outputs": [
    {
     "data": {
      "text/plain": [
       "('2012', 69244)"
      ]
     },
     "execution_count": 38,
     "metadata": {},
     "output_type": "execute_result"
    }
   ],
   "source": [
    "#  Q7: In which year did the largest vote margin between the top and bottom candidates occur in this constituency?[N]\n",
    "maxMarginYear=0\n",
    "maxMargin=0\n",
    "for i in voteMargins:\n",
    "    if voteMargins[i]>maxMargin:\n",
    "        maxMargin=voteMargins[i]\n",
    "        maxMarginYear=i\n",
    "maxMarginYear,maxMargin\n",
    "\n"
   ]
  },
  {
   "cell_type": "code",
   "execution_count": 22,
   "metadata": {},
   "outputs": [
    {
     "data": {
      "text/plain": [
       "126"
      ]
     },
     "execution_count": 22,
     "metadata": {},
     "output_type": "execute_result"
    }
   ],
   "source": [
    "# Q8: How many candidates across the years has lost their deposit?[N]\n",
    "def totalVotes(year):\n",
    "    total=0\n",
    "    for i in content1:\n",
    "        if i[1]==year and i[11] !='':\n",
    "            total+=int(i[11])\n",
    "    return total\n",
    "totalVotesYearWise={}\n",
    "for i in content1:\n",
    "    if i[1] not in totalVotesYearWise.keys():\n",
    "        totalVotesYearWise[i[1]]=totalVotes(i[1])\n",
    "ctr=0\n",
    "for i in content1:\n",
    "    if i[11]!='':\n",
    "        if int(i[11]) < 1/6 * totalVotesYearWise[i[1]]:\n",
    "            ctr+=1\n",
    "ctr"
   ]
  },
  {
   "cell_type": "code",
   "execution_count": 40,
   "metadata": {},
   "outputs": [
    {
     "data": {
      "text/plain": [
       "4"
      ]
     },
     "execution_count": 40,
     "metadata": {},
     "output_type": "execute_result"
    }
   ],
   "source": [
    "# Q9: In how many elections did the winning candidate secure an absolute majority of the votes in this constituency?[N]\n",
    "def majorityVotes(year):\n",
    "    total=0\n",
    "    for i in content1:\n",
    "        if i[1]==year and i[11] !='':\n",
    "            total+=int(i[11])\n",
    "    return total\n",
    "\n",
    "majorityVotesYearWise={}\n",
    "for i in content1:\n",
    "    if i[1] not in majorityVotesYearWise.keys():\n",
    "        majorityVotesYearWise[i[1]]=majorityVotes(i[1])\n",
    "ctr=0\n",
    "for i in content1:\n",
    "    if i[11]!='':\n",
    "        if int(i[11]) > 1/2 * majorityVotesYearWise[i[1]]:\n",
    "            ctr+=1\n",
    "ctr\n"
   ]
  },
  {
   "cell_type": "code",
   "execution_count": 27,
   "metadata": {},
   "outputs": [
    {
     "name": "stdout",
     "output_type": "stream",
     "text": [
      "1989\n"
     ]
    }
   ],
   "source": [
    "# Q10: Find latest year in which the winning candidate secured an absolute majority. 0 if no such wins.[N]\n",
    "# Absolute majority is when the winning candidate has more than 50% of the total votes\n",
    "def absoluteMajority(year):\n",
    "    for i in content1:\n",
    "        if i[1]==year:\n",
    "            if int(i[11])>0.5*totalVotesYearWise[i[1]]:\n",
    "                return year\n",
    "    return 0\n",
    "\n",
    "years=sorted(list(set([i[1] for i in content1])))\n",
    "years.reverse()\n",
    "for i in years:\n",
    "    if absoluteMajority(i)!=0:\n",
    "        print(absoluteMajority(i))\n",
    "        break"
   ]
  },
  {
   "cell_type": "code",
   "execution_count": 34,
   "metadata": {},
   "outputs": [
    {
     "data": {
      "text/plain": [
       "('INC', 8)"
      ]
     },
     "execution_count": 34,
     "metadata": {},
     "output_type": "execute_result"
    }
   ],
   "source": [
    "# Q11: Which party won the highest number of elections in this constituency? If more parties with equal, select the first party alphabetically.[S]\n",
    "\n",
    "def winnerParty(year):\n",
    "    s=''\n",
    "    max=0\n",
    "    for i in content1:\n",
    "        if i[1]==year:\n",
    "            if i[11]!='':\n",
    "                if int(i[11])>max:\n",
    "                    max=int(i[11])\n",
    "                    s=i[-2]\n",
    "    return s\n",
    "winnerEachYear={}\n",
    "for i in content1:\n",
    "    if i[1] not in winnerEachYear:\n",
    "        winnerEachYear[i[1]]=winnerParty(i[1])\n",
    "\n",
    "counter = {}\n",
    "for i in winnerEachYear:\n",
    "    if winnerEachYear[i] in counter:\n",
    "        counter[winnerEachYear[i]]+=1\n",
    "    else:\n",
    "        counter[winnerEachYear[i]]=1\n",
    "max=0\n",
    "s=''\n",
    "for i in counter:\n",
    "    if counter[i]>max:\n",
    "        max=counter[i]\n",
    "        s=i\n",
    "\n",
    "s, max\n"
   ]
  },
  {
   "cell_type": "code",
   "execution_count": 32,
   "metadata": {},
   "outputs": [
    {
     "data": {
      "text/plain": [
       "45.56719206063667"
      ]
     },
     "execution_count": 32,
     "metadata": {},
     "output_type": "execute_result"
    }
   ],
   "source": [
    "# Q13: What was the increase in vote share for the party that showed the most significant improvement from one election to the next consecutive one? if the vote share increased from 30percent to 65percent, the improvement is 35.[F]\n",
    "\n",
    "def voteShare(year,party):\n",
    "    for i in content1:\n",
    "        if i[1]==year and i[-2]==party:\n",
    "            return int(i[11])/totalVotesYearWise[i[1]]\n",
    "    return 0\n",
    "\n",
    "def maxIncreaseInVoteShare():\n",
    "    max=0\n",
    "    for i in range(len(years)-1):\n",
    "        for j in content1:\n",
    "            if j[1]==years[i]:\n",
    "                if voteShare(years[i+1],j[-2])-voteShare(years[i],j[-2])>max:\n",
    "                    max=voteShare(years[i+1],j[-2])-voteShare(years[i],j[-2])\n",
    "    return max\n",
    "maxIncreaseInVoteShare() * 100"
   ]
  },
  {
   "cell_type": "code",
   "execution_count": 24,
   "metadata": {},
   "outputs": [
    {
     "name": "stdout",
     "output_type": "stream",
     "text": [
      "2012 25.595216558897043 SP\n"
     ]
    }
   ],
   "source": [
    "# Q14: Which year did the party exhibit the most significant increase in vote share from one election to the next consecutive one?[F]\n",
    "\n",
    "vote_share_year_wise = {}\n",
    "\n",
    "for row in content1:\n",
    " \n",
    "\n",
    "  if row[1] in vote_share_year_wise:\n",
    "    vote_share_year_wise[row[1]][row[10]] = (int(row[-1]) / (totalVotesYearWise[row[1]]) * 100)\n",
    "  else:\n",
    "    vote_share_year_wise[row[1]] = {row[10] : (int(row[-1]) / (totalVotesYearWise[row[1]]) * 100)}\n",
    "\n",
    "year = list(vote_share_year_wise.keys())\n",
    "max_increase = 0\n",
    "max_increase_year = 0\n",
    "max_increase_party = ''\n",
    "for year_index in range(1, len(vote_share_year_wise)):\n",
    "  for party in vote_share_year_wise[year[year_index]]:\n",
    "    if party in vote_share_year_wise[year[year_index - 1]]:\n",
    "      increase = vote_share_year_wise[year[year_index]][party] - vote_share_year_wise[year[year_index - 1]][party]\n",
    "      if increase > max_increase:\n",
    "        max_increase = increase\n",
    "        max_increase_year = year[year_index]\n",
    "        max_increase_party = party\n",
    "\n",
    "print(max_increase_year, max_increase, max_increase_party)"
   ]
  }
 ],
 "metadata": {
  "kernelspec": {
   "display_name": "Python 3",
   "language": "python",
   "name": "python3"
  },
  "language_info": {
   "codemirror_mode": {
    "name": "ipython",
    "version": 3
   },
   "file_extension": ".py",
   "mimetype": "text/x-python",
   "name": "python",
   "nbconvert_exporter": "python",
   "pygments_lexer": "ipython3",
   "version": "3.12.2"
  }
 },
 "nbformat": 4,
 "nbformat_minor": 2
}
